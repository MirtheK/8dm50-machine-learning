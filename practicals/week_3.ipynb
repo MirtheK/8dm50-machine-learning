{
 "cells": [
  {
   "cell_type": "markdown",
   "metadata": {},
   "source": [
    "# Preliminaries\n",
    "\n",
    "The `pandas` library allows the user several data structures for different data manipulation tasks:\n",
    "1. Data storage through its `Series` and `DataFrame` data structures.\n",
    "2. Data filtering using multiple methods from the package.\n",
    "3. Reading data from many different file formats such as `csv`, `txt`, `xlsx`, ...\n",
    "\n",
    "Below we provide a brief overview of the `pandas` functionalities needed for these exercises. The complete documentation can be found on the [`pandas` website](https://pandas.pydata.org/).\n",
    "\n",
    "## Pandas data structures\n",
    "\n",
    "### Series\n",
    "The Pandas Series data structure is similar to a one-dimensional array. It can store any type of data. The values are mutable but the size not.\n",
    "\n",
    "To create `Series`, we call the `pd.Series()` method and pass an array. A `Series` may also be created from a numpy array."
   ]
  },
  {
   "cell_type": "code",
   "execution_count": 1,
   "metadata": {},
   "outputs": [
    {
     "name": "stdout",
     "output_type": "stream",
     "text": [
      "0       1\n",
      "1      10\n",
      "2     100\n",
      "3    1000\n",
      "dtype: int64\n",
      "\n",
      "\n",
      "0          PSV\n",
      "1         Ajax\n",
      "2    Feyenoord\n",
      "3       Twente\n",
      "dtype: object\n"
     ]
    }
   ],
   "source": [
    "import pandas as pd\n",
    "import numpy as np\n",
    "\n",
    "first_series = pd.Series([1,10,100,1000])\n",
    "\n",
    "print(first_series)\n",
    "\n",
    "teams = np.array(['PSV','Ajax','Feyenoord','Twente'])\n",
    "second_series = pd.Series(teams)\n",
    "\n",
    "print('\\n')\n",
    "print(second_series)"
   ]
  },
  {
   "cell_type": "markdown",
   "metadata": {},
   "source": [
    "### DataFrame\n",
    "One can think of a `DataFrame` as a table with rows and columns (2D structure). The columns can be of a different type (as opposed to `numpy` arrays) and the size of the `DataFrame` is mutable.\n",
    "\n",
    "To create `DataFrame`, we call the `pd.DataFrame()` method and we can create it from scratch or we can convert a numpy array or a list into a `DataFrame`."
   ]
  },
  {
   "cell_type": "code",
   "execution_count": 2,
   "metadata": {},
   "outputs": [
    {
     "name": "stdout",
     "output_type": "stream",
     "text": [
      "From scratch: \n",
      "    Position       Team  GF  GA  Points\n",
      "0         1        PSV  80  30      79\n",
      "1         2       Ajax  75  25      78\n",
      "2         3  Feyenoord  75  40      70\n",
      "3         4     Twente  70  60      66 \n",
      "\n",
      "From list: \n",
      "   Position       Team  GF  GA Points\n",
      "0        1        PSV  80  30     79\n",
      "1        2       Ajax  75  25     78\n",
      "2        3  Feyenoord  75  40     70\n",
      "3        4     Twente  70  60     66 \n",
      "\n",
      "From numpy array: \n",
      "   Position       Team  GF  GA Points\n",
      "0        1        PSV  80  30     79\n",
      "1        2       Ajax  75  25     78\n",
      "2        3  Feyenoord  75  40     70\n",
      "3        4     Twente  70  60     66 \n",
      "\n"
     ]
    }
   ],
   "source": [
    "# DataFrame from scratch\n",
    "first_dataframe = pd.DataFrame({\n",
    "    \"Position\": [1, 2, 3, 4],\n",
    "    \"Team\": ['PSV','Ajax','Feyenoord','Twente'],\n",
    "    \"GF\": [80, 75, 75, 70],\n",
    "    \"GA\": [30, 25, 40, 60],\n",
    "    \"Points\": [79, 78, 70, 66]\n",
    "})\n",
    "\n",
    "print(\"From scratch: \\n {} \\n\".format(first_dataframe))\n",
    "\n",
    "# DataFrme from a list\n",
    "data = [[1, 2, 3, 4], ['PSV','Ajax','Feyenoord','Twente'], \n",
    "        [80, 75, 75, 70], [30, 25, 40, 60], [79, 78, 70, 66]]\n",
    "columns = [\"Position\", \"Team\", \"GF\", \"GA\", \"Points\"]\n",
    "\n",
    "second_dataframe = pd.DataFrame(data, index=columns)\n",
    "\n",
    "print(\"From list: \\n {} \\n\".format(second_dataframe.T)) # the '.T' operator is explained later on\n",
    "\n",
    "# DataFrame from numpy array\n",
    "data = np.array([[1, 2, 3, 4], ['PSV','Ajax','Feyenoord','Twente'], \n",
    "                 [80, 75, 75, 70], [30, 25, 40, 60], [79, 78, 70, 66]])\n",
    "columns = [\"Position\", \"Team\", \"GF\", \"GA\", \"Points\"]\n",
    "\n",
    "third_dataframe = pd.DataFrame(data.T, columns=columns)\n",
    "\n",
    "print(\"From numpy array: \\n {} \\n\".format(third_dataframe))"
   ]
  },
  {
   "cell_type": "markdown",
   "metadata": {},
   "source": [
    "### DataFrame attributes\n",
    "This section gives a quick overview of some of the `pandas.DataFrame` attributes such as `T`, `index`, `columns`, `iloc`, `loc`, `shape` and `values`."
   ]
  },
  {
   "cell_type": "code",
   "execution_count": 3,
   "metadata": {},
   "outputs": [
    {
     "name": "stdout",
     "output_type": "stream",
     "text": [
      "            0     1          2       3\n",
      "Position    1     2          3       4\n",
      "Team      PSV  Ajax  Feyenoord  Twente\n",
      "GF         80    75         75      70\n",
      "GA         30    25         40      60\n",
      "Points     79    78         70      66\n"
     ]
    }
   ],
   "source": [
    "# transpose the index and columns\n",
    "print(third_dataframe.T)"
   ]
  },
  {
   "cell_type": "code",
   "execution_count": 4,
   "metadata": {},
   "outputs": [
    {
     "name": "stdout",
     "output_type": "stream",
     "text": [
      "RangeIndex(start=0, stop=4, step=1)\n"
     ]
    }
   ],
   "source": [
    "# index makes reference to the row labels\n",
    "print(third_dataframe.index)"
   ]
  },
  {
   "cell_type": "code",
   "execution_count": 5,
   "metadata": {},
   "outputs": [
    {
     "name": "stdout",
     "output_type": "stream",
     "text": [
      "Index(['Position', 'Team', 'GF', 'GA', 'Points'], dtype='object')\n"
     ]
    }
   ],
   "source": [
    "# columns makes reference to the column labels\n",
    "print(third_dataframe.columns)"
   ]
  },
  {
   "cell_type": "code",
   "execution_count": 6,
   "metadata": {},
   "outputs": [
    {
     "name": "stdout",
     "output_type": "stream",
     "text": [
      "0          PSV\n",
      "1         Ajax\n",
      "2    Feyenoord\n",
      "3       Twente\n",
      "Name: Team, dtype: object\n"
     ]
    }
   ],
   "source": [
    "# iloc allows to access the index by integer-location (e.g. all team names, which are in the second columm)\n",
    "print(third_dataframe.iloc[:,1])"
   ]
  },
  {
   "cell_type": "code",
   "execution_count": 7,
   "metadata": {},
   "outputs": [
    {
     "name": "stdout",
     "output_type": "stream",
     "text": [
      "PSV\n"
     ]
    }
   ],
   "source": [
    "# loc allows to access the index by label(s)-location (e.g. all team names, which are in the \"Team\" columm)\n",
    "print(third_dataframe.loc[0, 'Team'])"
   ]
  },
  {
   "cell_type": "code",
   "execution_count": 8,
   "metadata": {},
   "outputs": [
    {
     "name": "stdout",
     "output_type": "stream",
     "text": [
      "(4, 5)\n"
     ]
    }
   ],
   "source": [
    "# shape returns a tuple with the DataFrame dimension, similar to numpy\n",
    "print(third_dataframe.shape)"
   ]
  },
  {
   "cell_type": "code",
   "execution_count": 9,
   "metadata": {},
   "outputs": [
    {
     "name": "stdout",
     "output_type": "stream",
     "text": [
      "[['1' 'PSV' '80' '30' '79']\n",
      " ['2' 'Ajax' '75' '25' '78']\n",
      " ['3' 'Feyenoord' '75' '40' '70']\n",
      " ['4' 'Twente' '70' '60' '66']]\n"
     ]
    }
   ],
   "source": [
    "# values return a Numpy representation of the DataFrame data\n",
    "print(third_dataframe.values)"
   ]
  },
  {
   "cell_type": "markdown",
   "metadata": {},
   "source": [
    "### DataFrame methods\n",
    "This section gives a quick overview of some of the `pandas.DataFrame` methods such as `head`, `describe`, `concat`, `groupby`,`rename`, `filter`, `drop` and `isna`. To import data from CSV or MS Excel files, we can make use of `read_csv` and `read_excel`, respectively."
   ]
  },
  {
   "cell_type": "code",
   "execution_count": 10,
   "metadata": {},
   "outputs": [
    {
     "name": "stdout",
     "output_type": "stream",
     "text": [
      "  Position       Team  GF  GA Points\n",
      "0        1        PSV  80  30     79\n",
      "1        2       Ajax  75  25     78\n",
      "2        3  Feyenoord  75  40     70\n",
      "3        4     Twente  70  60     66\n"
     ]
    }
   ],
   "source": [
    "# print the first few rows in your dataset with head()\n",
    "print(third_dataframe.head()) # In this case, it is not very useful because we don't have thousands of rows"
   ]
  },
  {
   "cell_type": "code",
   "execution_count": 11,
   "metadata": {},
   "outputs": [
    {
     "name": "stdout",
     "output_type": "stream",
     "text": [
      "       Position       Team  GF  GA Points\n",
      "count         4          4   4   4      4\n",
      "unique        4          4   3   4      4\n",
      "top           3  Feyenoord  75  25     78\n",
      "freq          1          1   2   1      1\n"
     ]
    }
   ],
   "source": [
    "# get the summary statistics of the DataFrame with describe()\n",
    "print(third_dataframe.describe())"
   ]
  },
  {
   "cell_type": "code",
   "execution_count": 12,
   "metadata": {},
   "outputs": [
    {
     "name": "stdout",
     "output_type": "stream",
     "text": [
      "  Position  Team  GF  GA Points\n",
      "0        1   PSV  80  30     79\n",
      "1        2  Ajax  75  25     78\n",
      "\n",
      "\n",
      "  Position       Team  GF  GA Points\n",
      "2        3  Feyenoord  75  40     70\n",
      "3        4     Twente  70  60     66\n",
      "\n",
      "\n",
      "  Position       Team  GF  GA Points\n",
      "0        1        PSV  80  30     79\n",
      "1        2       Ajax  75  25     78\n",
      "2        3  Feyenoord  75  40     70\n",
      "3        4     Twente  70  60     66\n"
     ]
    }
   ],
   "source": [
    "# concatenate (join) DataFrame objects using concat()\n",
    "\n",
    "# first, we will split the above DataFrame in two different ones\n",
    "df_a = third_dataframe.loc[[0,1],:]\n",
    "df_b = third_dataframe.loc[[2,3],:]\n",
    "\n",
    "print(df_a)\n",
    "print('\\n')\n",
    "\n",
    "print(df_b)\n",
    "print('\\n')\n",
    "\n",
    "# now, we concatenate both datasets\n",
    "df = pd.concat([df_a, df_b])\n",
    "\n",
    "print(df)"
   ]
  },
  {
   "cell_type": "code",
   "execution_count": 13,
   "metadata": {},
   "outputs": [
    {
     "name": "stdout",
     "output_type": "stream",
     "text": [
      "  Position       Team  GF  GA Points\n",
      "1        2       Ajax  75  25     78\n",
      "2        3  Feyenoord  75  40     70\n"
     ]
    }
   ],
   "source": [
    "# group the data by certain variable via groupby()\n",
    "# here, we have grouped the data by goals for, which in this case is 75\n",
    "\n",
    "group = df.groupby('GF')\n",
    "\n",
    "print(group.get_group('75'))"
   ]
  },
  {
   "cell_type": "code",
   "execution_count": 14,
   "metadata": {},
   "outputs": [
    {
     "name": "stdout",
     "output_type": "stream",
     "text": [
      "  Pos       Club  GF  GA Points\n",
      "0   1        PSV  80  30     79\n",
      "1   2       Ajax  75  25     78\n",
      "2   3  Feyenoord  75  40     70\n",
      "3   4     Twente  70  60     66\n"
     ]
    }
   ],
   "source": [
    "# rename() helps you change the column or index names\n",
    "print(df.rename(columns={'Position':'Pos','Team':'Club'}))"
   ]
  },
  {
   "cell_type": "code",
   "execution_count": 15,
   "metadata": {},
   "outputs": [
    {
     "name": "stdout",
     "output_type": "stream",
     "text": [
      "        Team Points\n",
      "0        PSV     79\n",
      "1       Ajax     78\n",
      "2  Feyenoord     70\n",
      "3     Twente     66\n"
     ]
    }
   ],
   "source": [
    "# build a subset of rows or columns of your dataset according to labels via filter()\n",
    "# here, items refer to the variable names: 'Team' and 'Points'; to select columns, we specify axis=1\n",
    "print(df.filter(items=['Team', 'Points'], axis=1))"
   ]
  },
  {
   "cell_type": "code",
   "execution_count": 16,
   "metadata": {},
   "outputs": [
    {
     "name": "stdout",
     "output_type": "stream",
     "text": [
      "  Position       Team Points\n",
      "0        1        PSV     79\n",
      "1        2       Ajax     78\n",
      "2        3  Feyenoord     70\n",
      "3        4     Twente     66\n"
     ]
    }
   ],
   "source": [
    "# dropping some labels\n",
    "print(df.drop(columns=['GF', 'GA']))"
   ]
  },
  {
   "cell_type": "code",
   "execution_count": 17,
   "metadata": {},
   "outputs": [
    {
     "name": "stdout",
     "output_type": "stream",
     "text": [
      "   Position   Team     GF     GA  Points\n",
      "0     False  False  False  False   False\n",
      "1     False  False  False  False   False\n",
      "2     False  False  False  False   False\n",
      "3     False  False  False  False   False\n",
      "\n",
      "\n",
      "  Position       Team  GF  GA Points     W\n",
      "0        1        PSV  80  30     79   NaN\n",
      "1        2       Ajax  75  25     78  25.0\n",
      "2        3  Feyenoord  75  40     70  24.0\n",
      "3        4     Twente  70  60     66  19.0\n",
      "\n",
      "\n",
      "   Position   Team     GF     GA  Points      W\n",
      "0     False  False  False  False   False   True\n",
      "1     False  False  False  False   False  False\n",
      "2     False  False  False  False   False  False\n",
      "3     False  False  False  False   False  False\n"
     ]
    }
   ],
   "source": [
    "# search for NA (not available) entries in the DataFrame\n",
    "print(df.isna()) # No NA values\n",
    "print('\\n')\n",
    "\n",
    "# create a pandas Series with a NA value\n",
    "# the Series as W (winnin matches)\n",
    "tmp = pd.Series([np.NaN, 25, 24, 19],  name=\"W\")\n",
    "\n",
    "# concatenate the Series with the DataFrame\n",
    "df = pd.concat([df,tmp], axis = 1)\n",
    "print(df)\n",
    "print('\\n')\n",
    "\n",
    "# again, check for NA entries\n",
    "print(df.isna())"
   ]
  },
  {
   "cell_type": "markdown",
   "metadata": {},
   "source": [
    "## Dataset\n",
    "\n",
    "For this week exercises we will use a dataset from the Genomics of Drug Sensitivity in Cancer (GDSC) project (https://www.cancerrxgene.org/). In this study (['Iorio et al., Cell, 2016']()), 265 compounds were tested on 1001 cancer cell lines for which different types of -omics data (RNA expression, DNA methylation, Copy Number Alteration, DNA sequencing) are available. This is a valuable resource to look for biomarkers of drugs sensitivity in order to try to understand why cancer patients responds very differently to cancer drugs and find ways to assign the optimal treatment to each patient.\n",
    "\n",
    "For this exercise we will use a subset of the data, focusing the response to the drug YM155 (Sepantronium bromide) on four cancer types, for a total of 148 cancer cell lines.\n",
    "\n",
    "| ID          | Cancer type                      |\n",
    "|-------------|----------------------------------|\n",
    "|   COAD/READ | Colorectal adenocarcinoma        |\n",
    "|   NB        | Neuroblastoma                    |\n",
    "|   KIRC      | Kidney renal clear cell carcinoma|\n",
    "|   BRCA      | Breast carcinoma                 |\n",
    "\n",
    "We will use the RNA expression data (RMA normalised). Only genes with high variability across cell lines (variance > 5, resulting in 238 genes) have been kept.\n",
    "\n",
    "Drugs have been tested at different concentration, measuring each time the viability of the cells. Drug sensitivity is measured using the natural log of the fitted IC50 metric, which is defined as the half maximal inhibitory concentration. A lower IC50 corresponds to a more sensitive cell line because a lower amount of drug is sufficient to have a strong response, while a higher IC50 corresponds to a more resistant cell line because more drug is needed for killing the cells.\n",
    "\n",
    "Based on the IC50 metric, cells can be classified as sensitive or resistant. The classification is done by computing the $z$-score across all cell lines in the GDSC for each drug, and considering as sensitive the ones with $z$-score < 0 and resistant the ones with $z$-score > 0.\n",
    "\n",
    "The dataset is originally provided as 3 files ([original source](https://www.sciencedirect.com/science/article/pii/S0092867416307462?via%3Dihub)) :\n",
    "\n",
    "`GDSC_RNA_expression.csv`: gene expression matrix with the cell lines in the rows (148) and the genes in the columns (238).\n",
    "\n",
    "`GDSC_drug_response.csv`: vector with the cell lines response to the drug YM155 in terms of log(IC50) and as classification in sensitive or resistant.\n",
    "\n",
    "`GDSC_metadata.csv`: metadata for the 148 cell lines including name, COSMIC ID and tumor type (using the classification from ['The Cancer Genome Atlas TCGA'](https://www.cancer.gov/about-nci/organization/ccg/research/structural-genomics/tcga))\n",
    "\n",
    "For convenience, we provide the data already curated.\n",
    "\n",
    "`RNA_expression_curated.csv`: [148 cell lines , 238 genes]\n",
    "\n",
    "`drug_response_curated.csv`: [148 cell lines , YM155 drug]\n",
    "\n",
    "The curated data cam be read as `pandas` `DataFrame`s in the following way:"
   ]
  },
  {
   "cell_type": "code",
   "execution_count": 18,
   "metadata": {},
   "outputs": [],
   "source": [
    "import pandas as pd\n",
    "\n",
    "gene_expression = pd.read_csv(\"./data/RNA_expression_curated.csv\", sep=',', header=0, index_col=0)\n",
    "drug_response = pd.read_csv(\"./data/drug_response_curated.csv\", sep=',', header=0, index_col=0)"
   ]
  },
  {
   "cell_type": "markdown",
   "metadata": {},
   "source": [
    "You can use the `DataFrame`s directly as inputs to the the `sklearn` models. The advantage over using `numpy` arrays is that the variable are annotated, i.e. each input and output has a name."
   ]
  },
  {
   "cell_type": "markdown",
   "metadata": {},
   "source": [
    "## Tools\n",
    "The `scikit-learn` library provides the required tools for linear regression/classification and shrinkage, as well as for logistic regression."
   ]
  },
  {
   "cell_type": "code",
   "execution_count": 19,
   "metadata": {},
   "outputs": [],
   "source": [
    "from sklearn.linear_model import LinearRegression\n",
    "from sklearn.linear_model import Ridge\n",
    "from sklearn.linear_model import Lasso\n",
    "from sklearn.linear_model import LogisticRegression"
   ]
  },
  {
   "cell_type": "markdown",
   "metadata": {},
   "source": [
    "Note that the notation used for the hyperparameters in the `scikit-learn` library is different from the one used in the lecture. More specifically, in the lecture $\\alpha$ is the tunable parameter to select the compromise between Ridge and Lasso. Whereas, `scikit-learn` library refers to `alpha` as the tunable parameter $\\lambda$. Please check the documentation for more details."
   ]
  },
  {
   "cell_type": "markdown",
   "metadata": {},
   "source": [
    "# Exercises\n",
    "\n",
    "## Selection of the hyperparameter\n",
    "\n",
    "Implement cross-validation (using `sklearn.grid_search.GridSearchCV`) to select the `alpha` hyperparameter of `sklearn.linear_model.Lasso`. "
   ]
  },
  {
   "cell_type": "code",
   "execution_count": 20,
   "metadata": {},
   "outputs": [
    {
     "name": "stdout",
     "output_type": "stream",
     "text": [
      "Best parameter: {'alpha': 0.1373823795883264}, with score: 0.273696\n",
      "Grid score:\n",
      "-0.699 (+/- 1.378) for {'alpha': 0.0001}\n",
      "\n",
      "-0.695 (+/- 1.372) for {'alpha': 0.00013203517797162948}\n",
      "\n",
      "-0.690 (+/- 1.364) for {'alpha': 0.00017433288221999874}\n",
      "\n",
      "-0.682 (+/- 1.353) for {'alpha': 0.00023018073130224678}\n",
      "\n",
      "-0.672 (+/- 1.337) for {'alpha': 0.0003039195382313198}\n",
      "\n",
      "-0.656 (+/- 1.316) for {'alpha': 0.0004012807031942776}\n",
      "\n",
      "-0.642 (+/- 1.289) for {'alpha': 0.0005298316906283707}\n",
      "\n",
      "-0.647 (+/- 1.253) for {'alpha': 0.0006995642156712634}\n",
      "\n",
      "-0.599 (+/- 1.149) for {'alpha': 0.0009236708571873865}\n",
      "\n",
      "-0.533 (+/- 0.891) for {'alpha': 0.0012195704601594415}\n",
      "\n",
      "-0.509 (+/- 0.799) for {'alpha': 0.0016102620275609393}\n",
      "\n",
      "-0.518 (+/- 0.741) for {'alpha': 0.0021261123338996556}\n",
      "\n",
      "-0.563 (+/- 0.745) for {'alpha': 0.0028072162039411755}\n",
      "\n",
      "-0.560 (+/- 0.831) for {'alpha': 0.0037065129109221566}\n",
      "\n",
      "-0.528 (+/- 0.755) for {'alpha': 0.004893900918477494}\n",
      "\n",
      "-0.469 (+/- 0.787) for {'alpha': 0.006461670787466976}\n",
      "\n",
      "-0.371 (+/- 0.717) for {'alpha': 0.008531678524172814}\n",
      "\n",
      "-0.247 (+/- 0.620) for {'alpha': 0.011264816923358867}\n",
      "\n",
      "-0.153 (+/- 0.498) for {'alpha': 0.014873521072935119}\n",
      "\n",
      "-0.050 (+/- 0.388) for {'alpha': 0.0196382800192977}\n",
      "\n",
      "0.028 (+/- 0.362) for {'alpha': 0.02592943797404667}\n",
      "\n",
      "0.109 (+/- 0.355) for {'alpha': 0.03423597957607583}\n",
      "\n",
      "0.186 (+/- 0.294) for {'alpha': 0.04520353656360245}\n",
      "\n",
      "0.221 (+/- 0.235) for {'alpha': 0.05968456995122311}\n",
      "\n",
      "0.242 (+/- 0.260) for {'alpha': 0.07880462815669913}\n",
      "\n",
      "0.260 (+/- 0.297) for {'alpha': 0.10404983103657853}\n",
      "\n",
      "0.274 (+/- 0.289) for {'alpha': 0.1373823795883264}\n",
      "\n",
      "0.266 (+/- 0.277) for {'alpha': 0.1813930693911063}\n",
      "\n",
      "0.234 (+/- 0.261) for {'alpha': 0.2395026619987486}\n",
      "\n",
      "0.171 (+/- 0.251) for {'alpha': 0.31622776601683794}\n",
      "\n"
     ]
    }
   ],
   "source": [
    "from sklearn.model_selection import GridSearchCV\n",
    "from sklearn.model_selection import train_test_split\n",
    "import numpy as np\n",
    "def scaler(data):\n",
    "    data = (data - np.mean(data))/np.std(data)\n",
    "    return data\n",
    "\n",
    "X = scaler(gene_expression)\n",
    "y = scaler(drug_response)\n",
    "X_train, X_val, y_train, y_val = train_test_split(X, y, test_size = 0.1)\n",
    "\n",
    "lasso = Lasso(tol=1e-2) #tolarance is standard 1e-4 but then it did not converge\n",
    "alphas = np.logspace(-4, -0.5, 30)\n",
    "\n",
    "tuned_parameters = [{'alpha': alphas}]\n",
    "n_folds = 5\n",
    "\n",
    "clf = GridSearchCV(lasso, tuned_parameters, cv=n_folds, refit=True)\n",
    "clf.fit(X_train, y_train)\n",
    "\n",
    "print(\"Best parameter: {}, with score: {}\".format(clf.best_params_, round(clf.best_score_,6)))\n",
    "print_grid = True\n",
    "if print_grid:\n",
    "    print(\"Grid score:\")\n",
    "    means = clf.cv_results_['mean_test_score']\n",
    "    stds = clf.cv_results_['std_test_score']\n",
    "    for mean, std, params in zip(means, stds, clf.cv_results_['params']):\n",
    "        print(\"%0.3f (+/- %0.03f) for %r\\n\" % (mean, std * 2, params))\n",
    "        \n",
    "final_alpha = clf.best_params_['alpha']"
   ]
  },
  {
   "cell_type": "markdown",
   "metadata": {},
   "source": [
    "## Feature selection\n",
    "\n",
    "Look at the features selected using the hyperparameter which corresponds to the minimum cross-validation error.\n",
    "\n",
    "<p><font color='#770a0a'>Is the partition in training and validation sets playing a role in the selection of the hyperparameter? How will this affect the selection of the relevant features?</font></p>\n",
    "\n",
    "<p><font color='#770a0a'>Should the value of the intercept also be shrunk to zero with Lasso and Ridge regression? Motivate your answer.</font></p>"
   ]
  },
  {
   "cell_type": "code",
   "execution_count": 21,
   "metadata": {},
   "outputs": [
    {
     "name": "stdout",
     "output_type": "stream",
     "text": [
      "Index(['GAL', 'ABCB1', 'RARRES3', 'FABP1', 'CDX2'], dtype='object')\n"
     ]
    }
   ],
   "source": [
    "from sklearn.feature_selection import SelectFromModel\n",
    "sel_ = SelectFromModel(clf.best_estimator_, prefit=True)\n",
    "sel_.get_support()\n",
    "selected_feat = X.columns[(sel_.get_support())]\n",
    "print(selected_feat)"
   ]
  },
  {
   "cell_type": "markdown",
   "metadata": {},
   "source": [
    "***Answer***: The first run had an alpha of 0.1373823795883264, the second run had an alpha of 0.1813930693911063. The selected features of the first run were 'CDH17', 'ABCB1', 'TSPAN8', 'RARRES3', 'SELENBP1', 'FABP1', 'CDX2', 'AGR3' and for the second run 'ABCB1', 'FABP1', 'CDX2'. This means different features are selected based on the train data, because the train data from the 2nd run was different than in the first run. Concluding, partition in training and validation plays a role in the selection of the hyperparameter and also in the selection of the relevant features."
   ]
  },
  {
   "cell_type": "markdown",
   "metadata": {},
   "source": [
    "***Answer***: No, the Lasso and Ridge regression does not affect the value of the intercept. The estimators of the other values will chance if you set the intercept to 0. With this you imply to have knowledge that these values should fit on the line X = Y, which is not the case."
   ]
  },
  {
   "cell_type": "markdown",
   "metadata": {},
   "source": [
    "## Bias-variance \n",
    "\n",
    "Show the effect of the regularization on the parameter estimates in terms of bias and variance. For this you can repeat the optimization 100 times using bootstrap and visualise the profile of the Lasso regression coefficient over a grid of the hyperparameter, optionally including the variability as error bars.\n",
    "\n",
    "<p><font color='#770a0a'>Based on the visual analysis of the plot, what are your observation on bias and variance in relation to model complexity? Motivate your answer.</font></p>"
   ]
  },
  {
   "cell_type": "code",
   "execution_count": 23,
   "metadata": {},
   "outputs": [
    {
     "name": "stdout",
     "output_type": "stream",
     "text": [
      "RUN: 1\n",
      "Best parameter: {'alpha': 0.01}, with score: -2.338054\n",
      "RUN: 2\n",
      "Best parameter: {'alpha': 0.01}, with score: -1.753237\n",
      "RUN: 3\n",
      "Best parameter: {'alpha': 0.00026366508987303583}, with score: -1.491127\n",
      "RUN: 4\n",
      "Best parameter: {'alpha': 0.01}, with score: -1.837281\n",
      "RUN: 5\n"
     ]
    },
    {
     "name": "stderr",
     "output_type": "stream",
     "text": [
      "C:\\Users\\20163461\\AppData\\Local\\Continuum\\anaconda3\\lib\\site-packages\\sklearn\\linear_model\\_coordinate_descent.py:532: ConvergenceWarning: Objective did not converge. You might want to increase the number of iterations. Duality gap: 1.337558020471353, tolerance: 1.1823444491369215\n",
      "  positive)\n",
      "C:\\Users\\20163461\\AppData\\Local\\Continuum\\anaconda3\\lib\\site-packages\\sklearn\\linear_model\\_coordinate_descent.py:532: ConvergenceWarning: Objective did not converge. You might want to increase the number of iterations. Duality gap: 1.2469191763413547, tolerance: 1.1823444491369215\n",
      "  positive)\n"
     ]
    },
    {
     "name": "stdout",
     "output_type": "stream",
     "text": [
      "Best parameter: {'alpha': 0.01}, with score: -2.278795\n",
      "RUN: 6\n"
     ]
    },
    {
     "name": "stderr",
     "output_type": "stream",
     "text": [
      "C:\\Users\\20163461\\AppData\\Local\\Continuum\\anaconda3\\lib\\site-packages\\sklearn\\linear_model\\_coordinate_descent.py:532: ConvergenceWarning: Objective did not converge. You might want to increase the number of iterations. Duality gap: 1.2066489664680138, tolerance: 1.1404700713696416\n",
      "  positive)\n"
     ]
    },
    {
     "name": "stdout",
     "output_type": "stream",
     "text": [
      "Best parameter: {'alpha': 0.01}, with score: -1.813379\n",
      "RUN: 7\n",
      "Best parameter: {'alpha': 0.01}, with score: -1.852054\n",
      "RUN: 8\n",
      "Best parameter: {'alpha': 0.01}, with score: -2.496338\n",
      "RUN: 9\n",
      "Best parameter: {'alpha': 0.01}, with score: -2.037614\n",
      "RUN: 10\n"
     ]
    },
    {
     "name": "stderr",
     "output_type": "stream",
     "text": [
      "C:\\Users\\20163461\\AppData\\Local\\Continuum\\anaconda3\\lib\\site-packages\\sklearn\\linear_model\\_coordinate_descent.py:532: ConvergenceWarning: Objective did not converge. You might want to increase the number of iterations. Duality gap: 1.2151953394989037, tolerance: 1.0557072037533812\n",
      "  positive)\n",
      "C:\\Users\\20163461\\AppData\\Local\\Continuum\\anaconda3\\lib\\site-packages\\sklearn\\linear_model\\_coordinate_descent.py:532: ConvergenceWarning: Objective did not converge. You might want to increase the number of iterations. Duality gap: 1.4620798042914784, tolerance: 1.176392921806604\n",
      "  positive)\n",
      "C:\\Users\\20163461\\AppData\\Local\\Continuum\\anaconda3\\lib\\site-packages\\sklearn\\linear_model\\_coordinate_descent.py:532: ConvergenceWarning: Objective did not converge. You might want to increase the number of iterations. Duality gap: 2.0796103445457894, tolerance: 1.176392921806604\n",
      "  positive)\n",
      "C:\\Users\\20163461\\AppData\\Local\\Continuum\\anaconda3\\lib\\site-packages\\sklearn\\linear_model\\_coordinate_descent.py:532: ConvergenceWarning: Objective did not converge. You might want to increase the number of iterations. Duality gap: 1.5141579579591662, tolerance: 1.0174338690485565\n",
      "  positive)\n",
      "C:\\Users\\20163461\\AppData\\Local\\Continuum\\anaconda3\\lib\\site-packages\\sklearn\\linear_model\\_coordinate_descent.py:532: ConvergenceWarning: Objective did not converge. You might want to increase the number of iterations. Duality gap: 2.513466851816934, tolerance: 1.176392921806604\n",
      "  positive)\n",
      "C:\\Users\\20163461\\AppData\\Local\\Continuum\\anaconda3\\lib\\site-packages\\sklearn\\linear_model\\_coordinate_descent.py:532: ConvergenceWarning: Objective did not converge. You might want to increase the number of iterations. Duality gap: 1.0904623590560263, tolerance: 1.0557072037533812\n",
      "  positive)\n"
     ]
    },
    {
     "name": "stdout",
     "output_type": "stream",
     "text": [
      "Best parameter: {'alpha': 0.01}, with score: -2.322434\n",
      "RUN: 11\n",
      "Best parameter: {'alpha': 0.01}, with score: -2.295883\n",
      "RUN: 12\n",
      "Best parameter: {'alpha': 0.01}, with score: -1.850713\n",
      "RUN: 13\n",
      "Best parameter: {'alpha': 0.01}, with score: -2.191182\n",
      "RUN: 14\n"
     ]
    },
    {
     "name": "stderr",
     "output_type": "stream",
     "text": [
      "C:\\Users\\20163461\\AppData\\Local\\Continuum\\anaconda3\\lib\\site-packages\\sklearn\\linear_model\\_coordinate_descent.py:532: ConvergenceWarning: Objective did not converge. You might want to increase the number of iterations. Duality gap: 1.1632897311404036, tolerance: 1.0962678594075035\n",
      "  positive)\n"
     ]
    },
    {
     "name": "stdout",
     "output_type": "stream",
     "text": [
      "Best parameter: {'alpha': 0.01}, with score: -2.11424\n",
      "RUN: 15\n",
      "Best parameter: {'alpha': 0.01}, with score: -1.926607\n",
      "RUN: 16\n",
      "Best parameter: {'alpha': 0.01}, with score: -1.340432\n",
      "RUN: 17\n"
     ]
    },
    {
     "name": "stderr",
     "output_type": "stream",
     "text": [
      "C:\\Users\\20163461\\AppData\\Local\\Continuum\\anaconda3\\lib\\site-packages\\sklearn\\linear_model\\_coordinate_descent.py:532: ConvergenceWarning: Objective did not converge. You might want to increase the number of iterations. Duality gap: 0.911393594415725, tolerance: 0.888782202082633\n",
      "  positive)\n"
     ]
    },
    {
     "name": "stdout",
     "output_type": "stream",
     "text": [
      "Best parameter: {'alpha': 0.01}, with score: -2.154391\n",
      "RUN: 18\n",
      "Best parameter: {'alpha': 0.01}, with score: -2.474319\n",
      "RUN: 19\n",
      "Best parameter: {'alpha': 0.01}, with score: -2.268423\n",
      "RUN: 20\n"
     ]
    },
    {
     "name": "stderr",
     "output_type": "stream",
     "text": [
      "C:\\Users\\20163461\\AppData\\Local\\Continuum\\anaconda3\\lib\\site-packages\\sklearn\\linear_model\\_coordinate_descent.py:532: ConvergenceWarning: Objective did not converge. You might want to increase the number of iterations. Duality gap: 1.5258256299026685, tolerance: 1.1752389344976957\n",
      "  positive)\n",
      "C:\\Users\\20163461\\AppData\\Local\\Continuum\\anaconda3\\lib\\site-packages\\sklearn\\linear_model\\_coordinate_descent.py:532: ConvergenceWarning: Objective did not converge. You might want to increase the number of iterations. Duality gap: 1.0318339775836178, tolerance: 0.9961708378032603\n",
      "  positive)\n",
      "C:\\Users\\20163461\\AppData\\Local\\Continuum\\anaconda3\\lib\\site-packages\\sklearn\\linear_model\\_coordinate_descent.py:532: ConvergenceWarning: Objective did not converge. You might want to increase the number of iterations. Duality gap: 1.8200928384486434, tolerance: 1.1752389344976957\n",
      "  positive)\n",
      "C:\\Users\\20163461\\AppData\\Local\\Continuum\\anaconda3\\lib\\site-packages\\sklearn\\linear_model\\_coordinate_descent.py:532: ConvergenceWarning: Objective did not converge. You might want to increase the number of iterations. Duality gap: 1.8773537481229294, tolerance: 1.1752389344976957\n",
      "  positive)\n",
      "C:\\Users\\20163461\\AppData\\Local\\Continuum\\anaconda3\\lib\\site-packages\\sklearn\\linear_model\\_coordinate_descent.py:532: ConvergenceWarning: Objective did not converge. You might want to increase the number of iterations. Duality gap: 1.195289257806285, tolerance: 1.1752389344976957\n",
      "  positive)\n"
     ]
    },
    {
     "name": "stdout",
     "output_type": "stream",
     "text": [
      "Best parameter: {'alpha': 0.01}, with score: -2.127227\n",
      "RUN: 21\n",
      "Best parameter: {'alpha': 0.01}, with score: -2.530088\n",
      "RUN: 22\n"
     ]
    },
    {
     "name": "stderr",
     "output_type": "stream",
     "text": [
      "C:\\Users\\20163461\\AppData\\Local\\Continuum\\anaconda3\\lib\\site-packages\\sklearn\\linear_model\\_coordinate_descent.py:532: ConvergenceWarning: Objective did not converge. You might want to increase the number of iterations. Duality gap: 1.0985471280484593, tolerance: 1.0719058495659064\n",
      "  positive)\n",
      "C:\\Users\\20163461\\AppData\\Local\\Continuum\\anaconda3\\lib\\site-packages\\sklearn\\linear_model\\_coordinate_descent.py:532: ConvergenceWarning: Objective did not converge. You might want to increase the number of iterations. Duality gap: 1.3619391433654282, tolerance: 1.0719058495659064\n",
      "  positive)\n"
     ]
    },
    {
     "name": "stdout",
     "output_type": "stream",
     "text": [
      "Best parameter: {'alpha': 0.01}, with score: -2.234363\n",
      "RUN: 23\n",
      "Best parameter: {'alpha': 0.01}, with score: -1.703996\n",
      "RUN: 24\n"
     ]
    },
    {
     "name": "stderr",
     "output_type": "stream",
     "text": [
      "C:\\Users\\20163461\\AppData\\Local\\Continuum\\anaconda3\\lib\\site-packages\\sklearn\\linear_model\\_coordinate_descent.py:532: ConvergenceWarning: Objective did not converge. You might want to increase the number of iterations. Duality gap: 1.164944503041728, tolerance: 1.1497120201741688\n",
      "  positive)\n"
     ]
    },
    {
     "name": "stdout",
     "output_type": "stream",
     "text": [
      "Best parameter: {'alpha': 0.01}, with score: -2.32198\n",
      "RUN: 25\n"
     ]
    },
    {
     "name": "stderr",
     "output_type": "stream",
     "text": [
      "C:\\Users\\20163461\\AppData\\Local\\Continuum\\anaconda3\\lib\\site-packages\\sklearn\\linear_model\\_coordinate_descent.py:532: ConvergenceWarning: Objective did not converge. You might want to increase the number of iterations. Duality gap: 1.053839906439892, tolerance: 1.0186104500819517\n",
      "  positive)\n",
      "C:\\Users\\20163461\\AppData\\Local\\Continuum\\anaconda3\\lib\\site-packages\\sklearn\\linear_model\\_coordinate_descent.py:532: ConvergenceWarning: Objective did not converge. You might want to increase the number of iterations. Duality gap: 1.1831423575852071, tolerance: 0.9739857669319875\n",
      "  positive)\n",
      "C:\\Users\\20163461\\AppData\\Local\\Continuum\\anaconda3\\lib\\site-packages\\sklearn\\linear_model\\_coordinate_descent.py:532: ConvergenceWarning: Objective did not converge. You might want to increase the number of iterations. Duality gap: 1.314141555002935, tolerance: 1.0186104500819517\n",
      "  positive)\n",
      "C:\\Users\\20163461\\AppData\\Local\\Continuum\\anaconda3\\lib\\site-packages\\sklearn\\linear_model\\_coordinate_descent.py:532: ConvergenceWarning: Objective did not converge. You might want to increase the number of iterations. Duality gap: 1.041243010549249, tolerance: 0.9739857669319875\n",
      "  positive)\n"
     ]
    },
    {
     "name": "stdout",
     "output_type": "stream",
     "text": [
      "Best parameter: {'alpha': 0.01}, with score: -1.875321\n",
      "RUN: 26\n",
      "Best parameter: {'alpha': 0.01}, with score: -2.394755\n",
      "RUN: 27\n",
      "Best parameter: {'alpha': 0.0007847599703514606}, with score: -1.559789\n",
      "RUN: 28\n",
      "Best parameter: {'alpha': 0.01}, with score: -1.551724\n",
      "RUN: 29\n"
     ]
    },
    {
     "name": "stderr",
     "output_type": "stream",
     "text": [
      "C:\\Users\\20163461\\AppData\\Local\\Continuum\\anaconda3\\lib\\site-packages\\sklearn\\linear_model\\_coordinate_descent.py:532: ConvergenceWarning: Objective did not converge. You might want to increase the number of iterations. Duality gap: 1.1406736934268915, tolerance: 0.9272110626979146\n",
      "  positive)\n"
     ]
    },
    {
     "name": "stdout",
     "output_type": "stream",
     "text": [
      "Best parameter: {'alpha': 0.01}, with score: -2.014599\n",
      "RUN: 30\n",
      "Best parameter: {'alpha': 0.01}, with score: -1.986953\n",
      "RUN: 31\n"
     ]
    },
    {
     "name": "stderr",
     "output_type": "stream",
     "text": [
      "C:\\Users\\20163461\\AppData\\Local\\Continuum\\anaconda3\\lib\\site-packages\\sklearn\\linear_model\\_coordinate_descent.py:532: ConvergenceWarning: Objective did not converge. You might want to increase the number of iterations. Duality gap: 1.146080785039075, tolerance: 1.142654211046538\n",
      "  positive)\n",
      "C:\\Users\\20163461\\AppData\\Local\\Continuum\\anaconda3\\lib\\site-packages\\sklearn\\linear_model\\_coordinate_descent.py:532: ConvergenceWarning: Objective did not converge. You might want to increase the number of iterations. Duality gap: 1.165796715414182, tolerance: 1.030916867244319\n",
      "  positive)\n"
     ]
    },
    {
     "name": "stdout",
     "output_type": "stream",
     "text": [
      "Best parameter: {'alpha': 0.01}, with score: -1.931147\n",
      "RUN: 32\n",
      "Best parameter: {'alpha': 0.01}, with score: -1.8255\n",
      "RUN: 33\n",
      "Best parameter: {'alpha': 0.01}, with score: -1.534116\n",
      "RUN: 34\n",
      "Best parameter: {'alpha': 0.01}, with score: -2.350888\n",
      "RUN: 35\n",
      "Best parameter: {'alpha': 0.01}, with score: -1.987838\n",
      "RUN: 36\n",
      "Best parameter: {'alpha': 0.01}, with score: -2.382966\n",
      "RUN: 37\n"
     ]
    },
    {
     "name": "stderr",
     "output_type": "stream",
     "text": [
      "C:\\Users\\20163461\\AppData\\Local\\Continuum\\anaconda3\\lib\\site-packages\\sklearn\\linear_model\\_coordinate_descent.py:532: ConvergenceWarning: Objective did not converge. You might want to increase the number of iterations. Duality gap: 1.3783313249570757, tolerance: 1.28287908263468\n",
      "  positive)\n",
      "C:\\Users\\20163461\\AppData\\Local\\Continuum\\anaconda3\\lib\\site-packages\\sklearn\\linear_model\\_coordinate_descent.py:532: ConvergenceWarning: Objective did not converge. You might want to increase the number of iterations. Duality gap: 1.2626536553832928, tolerance: 1.2062611226072242\n",
      "  positive)\n"
     ]
    },
    {
     "name": "stdout",
     "output_type": "stream",
     "text": [
      "Best parameter: {'alpha': 0.01}, with score: -2.071375\n",
      "RUN: 38\n",
      "Best parameter: {'alpha': 0.01}, with score: -1.747455\n",
      "RUN: 39\n",
      "Best parameter: {'alpha': 0.01}, with score: -2.095413\n",
      "RUN: 40\n"
     ]
    },
    {
     "name": "stderr",
     "output_type": "stream",
     "text": [
      "C:\\Users\\20163461\\AppData\\Local\\Continuum\\anaconda3\\lib\\site-packages\\sklearn\\linear_model\\_coordinate_descent.py:532: ConvergenceWarning: Objective did not converge. You might want to increase the number of iterations. Duality gap: 1.629870840767271, tolerance: 1.1973591181614345\n",
      "  positive)\n"
     ]
    },
    {
     "name": "stdout",
     "output_type": "stream",
     "text": [
      "Best parameter: {'alpha': 0.01}, with score: -2.810928\n",
      "RUN: 41\n",
      "Best parameter: {'alpha': 0.01}, with score: -1.645955\n",
      "RUN: 42\n",
      "Best parameter: {'alpha': 0.01}, with score: -1.644\n",
      "RUN: 43\n",
      "Best parameter: {'alpha': 0.01}, with score: -1.345892\n",
      "RUN: 44\n",
      "Best parameter: {'alpha': 0.01}, with score: -2.411082\n",
      "RUN: 45\n"
     ]
    },
    {
     "name": "stderr",
     "output_type": "stream",
     "text": [
      "C:\\Users\\20163461\\AppData\\Local\\Continuum\\anaconda3\\lib\\site-packages\\sklearn\\linear_model\\_coordinate_descent.py:532: ConvergenceWarning: Objective did not converge. You might want to increase the number of iterations. Duality gap: 1.1635669423649018, tolerance: 1.0749946542613449\n",
      "  positive)\n"
     ]
    },
    {
     "name": "stdout",
     "output_type": "stream",
     "text": [
      "Best parameter: {'alpha': 0.01}, with score: -2.587577\n",
      "RUN: 46\n",
      "Best parameter: {'alpha': 0.01}, with score: -2.136178\n",
      "RUN: 47\n",
      "Best parameter: {'alpha': 0.01}, with score: -2.091967\n",
      "RUN: 48\n"
     ]
    },
    {
     "name": "stderr",
     "output_type": "stream",
     "text": [
      "C:\\Users\\20163461\\AppData\\Local\\Continuum\\anaconda3\\lib\\site-packages\\sklearn\\linear_model\\_coordinate_descent.py:532: ConvergenceWarning: Objective did not converge. You might want to increase the number of iterations. Duality gap: 0.9503201473037102, tolerance: 0.8944999209963286\n",
      "  positive)\n"
     ]
    },
    {
     "name": "stdout",
     "output_type": "stream",
     "text": [
      "Best parameter: {'alpha': 0.01}, with score: -1.689144\n",
      "RUN: 49\n",
      "Best parameter: {'alpha': 0.01}, with score: -1.957925\n",
      "RUN: 50\n",
      "Best parameter: {'alpha': 0.01}, with score: -1.433629\n",
      "RUN: 51\n"
     ]
    },
    {
     "name": "stderr",
     "output_type": "stream",
     "text": [
      "C:\\Users\\20163461\\AppData\\Local\\Continuum\\anaconda3\\lib\\site-packages\\sklearn\\linear_model\\_coordinate_descent.py:532: ConvergenceWarning: Objective did not converge. You might want to increase the number of iterations. Duality gap: 1.315601153775204, tolerance: 1.0642549745138812\n",
      "  positive)\n",
      "C:\\Users\\20163461\\AppData\\Local\\Continuum\\anaconda3\\lib\\site-packages\\sklearn\\linear_model\\_coordinate_descent.py:532: ConvergenceWarning: Objective did not converge. You might want to increase the number of iterations. Duality gap: 1.9824652635709303, tolerance: 1.0868682381779333\n",
      "  positive)\n",
      "C:\\Users\\20163461\\AppData\\Local\\Continuum\\anaconda3\\lib\\site-packages\\sklearn\\linear_model\\_coordinate_descent.py:532: ConvergenceWarning: Objective did not converge. You might want to increase the number of iterations. Duality gap: 1.5978057028232167, tolerance: 1.0868682381779333\n",
      "  positive)\n"
     ]
    },
    {
     "name": "stdout",
     "output_type": "stream",
     "text": [
      "Best parameter: {'alpha': 0.01}, with score: -1.898382\n",
      "RUN: 52\n"
     ]
    },
    {
     "name": "stderr",
     "output_type": "stream",
     "text": [
      "C:\\Users\\20163461\\AppData\\Local\\Continuum\\anaconda3\\lib\\site-packages\\sklearn\\linear_model\\_coordinate_descent.py:532: ConvergenceWarning: Objective did not converge. You might want to increase the number of iterations. Duality gap: 1.130026674472897, tolerance: 1.1155674702424303\n",
      "  positive)\n",
      "C:\\Users\\20163461\\AppData\\Local\\Continuum\\anaconda3\\lib\\site-packages\\sklearn\\linear_model\\_coordinate_descent.py:532: ConvergenceWarning: Objective did not converge. You might want to increase the number of iterations. Duality gap: 1.1234473808762555, tolerance: 1.1138035746838726\n",
      "  positive)\n"
     ]
    },
    {
     "name": "stdout",
     "output_type": "stream",
     "text": [
      "Best parameter: {'alpha': 0.01}, with score: -2.867257\n",
      "RUN: 53\n",
      "Best parameter: {'alpha': 0.01}, with score: -1.905774\n",
      "RUN: 54\n",
      "Best parameter: {'alpha': 0.01}, with score: -1.633353\n",
      "RUN: 55\n",
      "Best parameter: {'alpha': 0.01}, with score: -1.863641\n",
      "RUN: 56\n"
     ]
    },
    {
     "name": "stderr",
     "output_type": "stream",
     "text": [
      "C:\\Users\\20163461\\AppData\\Local\\Continuum\\anaconda3\\lib\\site-packages\\sklearn\\linear_model\\_coordinate_descent.py:532: ConvergenceWarning: Objective did not converge. You might want to increase the number of iterations. Duality gap: 1.4221303570373776, tolerance: 1.1710219446084886\n",
      "  positive)\n",
      "C:\\Users\\20163461\\AppData\\Local\\Continuum\\anaconda3\\lib\\site-packages\\sklearn\\linear_model\\_coordinate_descent.py:532: ConvergenceWarning: Objective did not converge. You might want to increase the number of iterations. Duality gap: 1.741377969276541, tolerance: 1.1710219446084886\n",
      "  positive)\n"
     ]
    },
    {
     "name": "stdout",
     "output_type": "stream",
     "text": [
      "Best parameter: {'alpha': 0.01}, with score: -2.847848\n",
      "RUN: 57\n"
     ]
    },
    {
     "name": "stderr",
     "output_type": "stream",
     "text": [
      "C:\\Users\\20163461\\AppData\\Local\\Continuum\\anaconda3\\lib\\site-packages\\sklearn\\linear_model\\_coordinate_descent.py:532: ConvergenceWarning: Objective did not converge. You might want to increase the number of iterations. Duality gap: 1.1413697090498558, tolerance: 1.0903618457253779\n",
      "  positive)\n"
     ]
    },
    {
     "name": "stdout",
     "output_type": "stream",
     "text": [
      "Best parameter: {'alpha': 0.01}, with score: -2.118277\n",
      "RUN: 58\n"
     ]
    },
    {
     "name": "stderr",
     "output_type": "stream",
     "text": [
      "C:\\Users\\20163461\\AppData\\Local\\Continuum\\anaconda3\\lib\\site-packages\\sklearn\\linear_model\\_coordinate_descent.py:532: ConvergenceWarning: Objective did not converge. You might want to increase the number of iterations. Duality gap: 1.5382008757251793, tolerance: 0.7935212894045579\n",
      "  positive)\n"
     ]
    },
    {
     "name": "stdout",
     "output_type": "stream",
     "text": [
      "Best parameter: {'alpha': 0.01}, with score: -1.521227\n",
      "RUN: 59\n"
     ]
    },
    {
     "name": "stderr",
     "output_type": "stream",
     "text": [
      "C:\\Users\\20163461\\AppData\\Local\\Continuum\\anaconda3\\lib\\site-packages\\sklearn\\linear_model\\_coordinate_descent.py:532: ConvergenceWarning: Objective did not converge. You might want to increase the number of iterations. Duality gap: 1.3554949882846652, tolerance: 1.0758842510759554\n",
      "  positive)\n",
      "C:\\Users\\20163461\\AppData\\Local\\Continuum\\anaconda3\\lib\\site-packages\\sklearn\\linear_model\\_coordinate_descent.py:532: ConvergenceWarning: Objective did not converge. You might want to increase the number of iterations. Duality gap: 1.1272333586099421, tolerance: 1.0758842510759554\n",
      "  positive)\n",
      "C:\\Users\\20163461\\AppData\\Local\\Continuum\\anaconda3\\lib\\site-packages\\sklearn\\linear_model\\_coordinate_descent.py:532: ConvergenceWarning: Objective did not converge. You might want to increase the number of iterations. Duality gap: 1.6455869210105831, tolerance: 1.2425003960174947\n",
      "  positive)\n",
      "C:\\Users\\20163461\\AppData\\Local\\Continuum\\anaconda3\\lib\\site-packages\\sklearn\\linear_model\\_coordinate_descent.py:532: ConvergenceWarning: Objective did not converge. You might want to increase the number of iterations. Duality gap: 1.8770093112734925, tolerance: 1.1825093297347151\n",
      "  positive)\n",
      "C:\\Users\\20163461\\AppData\\Local\\Continuum\\anaconda3\\lib\\site-packages\\sklearn\\linear_model\\_coordinate_descent.py:532: ConvergenceWarning: Objective did not converge. You might want to increase the number of iterations. Duality gap: 1.2855054761688869, tolerance: 1.2425003960174947\n",
      "  positive)\n",
      "C:\\Users\\20163461\\AppData\\Local\\Continuum\\anaconda3\\lib\\site-packages\\sklearn\\linear_model\\_coordinate_descent.py:532: ConvergenceWarning: Objective did not converge. You might want to increase the number of iterations. Duality gap: 1.3744909562887266, tolerance: 1.1155298838210255\n",
      "  positive)\n",
      "C:\\Users\\20163461\\AppData\\Local\\Continuum\\anaconda3\\lib\\site-packages\\sklearn\\linear_model\\_coordinate_descent.py:532: ConvergenceWarning: Objective did not converge. You might want to increase the number of iterations. Duality gap: 1.597227817729833, tolerance: 1.1825093297347151\n",
      "  positive)\n",
      "C:\\Users\\20163461\\AppData\\Local\\Continuum\\anaconda3\\lib\\site-packages\\sklearn\\linear_model\\_coordinate_descent.py:532: ConvergenceWarning: Objective did not converge. You might want to increase the number of iterations. Duality gap: 1.4230995124778496, tolerance: 1.1155298838210255\n",
      "  positive)\n",
      "C:\\Users\\20163461\\AppData\\Local\\Continuum\\anaconda3\\lib\\site-packages\\sklearn\\linear_model\\_coordinate_descent.py:532: ConvergenceWarning: Objective did not converge. You might want to increase the number of iterations. Duality gap: 1.364829714654528, tolerance: 1.1825093297347151\n",
      "  positive)\n"
     ]
    },
    {
     "name": "stdout",
     "output_type": "stream",
     "text": [
      "Best parameter: {'alpha': 0.01}, with score: -2.459636\n",
      "RUN: 60\n",
      "Best parameter: {'alpha': 0.01}, with score: -1.963649\n",
      "RUN: 61\n",
      "Best parameter: {'alpha': 0.01}, with score: -1.759671\n",
      "RUN: 62\n"
     ]
    },
    {
     "name": "stderr",
     "output_type": "stream",
     "text": [
      "C:\\Users\\20163461\\AppData\\Local\\Continuum\\anaconda3\\lib\\site-packages\\sklearn\\linear_model\\_coordinate_descent.py:532: ConvergenceWarning: Objective did not converge. You might want to increase the number of iterations. Duality gap: 1.230612930873178, tolerance: 1.193775964332726\n",
      "  positive)\n"
     ]
    },
    {
     "name": "stdout",
     "output_type": "stream",
     "text": [
      "Best parameter: {'alpha': 0.01}, with score: -2.035762\n",
      "RUN: 63\n",
      "Best parameter: {'alpha': 0.01}, with score: -2.00416\n",
      "RUN: 64\n",
      "Best parameter: {'alpha': 0.01}, with score: -2.197062\n",
      "RUN: 65\n"
     ]
    },
    {
     "name": "stderr",
     "output_type": "stream",
     "text": [
      "C:\\Users\\20163461\\AppData\\Local\\Continuum\\anaconda3\\lib\\site-packages\\sklearn\\linear_model\\_coordinate_descent.py:532: ConvergenceWarning: Objective did not converge. You might want to increase the number of iterations. Duality gap: 1.34082936671979, tolerance: 1.1323876015652876\n",
      "  positive)\n",
      "C:\\Users\\20163461\\AppData\\Local\\Continuum\\anaconda3\\lib\\site-packages\\sklearn\\linear_model\\_coordinate_descent.py:532: ConvergenceWarning: Objective did not converge. You might want to increase the number of iterations. Duality gap: 1.14837945802316, tolerance: 0.9745534284795988\n",
      "  positive)\n",
      "C:\\Users\\20163461\\AppData\\Local\\Continuum\\anaconda3\\lib\\site-packages\\sklearn\\linear_model\\_coordinate_descent.py:532: ConvergenceWarning: Objective did not converge. You might want to increase the number of iterations. Duality gap: 1.3103088648947185, tolerance: 1.1323876015652876\n",
      "  positive)\n",
      "C:\\Users\\20163461\\AppData\\Local\\Continuum\\anaconda3\\lib\\site-packages\\sklearn\\linear_model\\_coordinate_descent.py:532: ConvergenceWarning: Objective did not converge. You might want to increase the number of iterations. Duality gap: 1.1277382942435739, tolerance: 0.9745534284795988\n",
      "  positive)\n"
     ]
    },
    {
     "name": "stdout",
     "output_type": "stream",
     "text": [
      "Best parameter: {'alpha': 0.01}, with score: -1.741295\n",
      "RUN: 66\n",
      "Best parameter: {'alpha': 0.01}, with score: -2.632742\n",
      "RUN: 67\n"
     ]
    },
    {
     "name": "stderr",
     "output_type": "stream",
     "text": [
      "C:\\Users\\20163461\\AppData\\Local\\Continuum\\anaconda3\\lib\\site-packages\\sklearn\\linear_model\\_coordinate_descent.py:532: ConvergenceWarning: Objective did not converge. You might want to increase the number of iterations. Duality gap: 1.166901452899681, tolerance: 0.9192793939456354\n",
      "  positive)\n",
      "C:\\Users\\20163461\\AppData\\Local\\Continuum\\anaconda3\\lib\\site-packages\\sklearn\\linear_model\\_coordinate_descent.py:532: ConvergenceWarning: Objective did not converge. You might want to increase the number of iterations. Duality gap: 1.216859938268678, tolerance: 0.9192793939456354\n",
      "  positive)\n",
      "C:\\Users\\20163461\\AppData\\Local\\Continuum\\anaconda3\\lib\\site-packages\\sklearn\\linear_model\\_coordinate_descent.py:532: ConvergenceWarning: Objective did not converge. You might want to increase the number of iterations. Duality gap: 1.1160110100078409, tolerance: 0.9819337835630226\n",
      "  positive)\n",
      "C:\\Users\\20163461\\AppData\\Local\\Continuum\\anaconda3\\lib\\site-packages\\sklearn\\linear_model\\_coordinate_descent.py:532: ConvergenceWarning: Objective did not converge. You might want to increase the number of iterations. Duality gap: 0.9474345118697095, tolerance: 0.9192793939456354\n",
      "  positive)\n",
      "C:\\Users\\20163461\\AppData\\Local\\Continuum\\anaconda3\\lib\\site-packages\\sklearn\\linear_model\\_coordinate_descent.py:532: ConvergenceWarning: Objective did not converge. You might want to increase the number of iterations. Duality gap: 1.0701850726031796, tolerance: 0.9819337835630226\n",
      "  positive)\n",
      "C:\\Users\\20163461\\AppData\\Local\\Continuum\\anaconda3\\lib\\site-packages\\sklearn\\linear_model\\_coordinate_descent.py:532: ConvergenceWarning: Objective did not converge. You might want to increase the number of iterations. Duality gap: 1.1367864230782594, tolerance: 0.9192793939456354\n",
      "  positive)\n"
     ]
    },
    {
     "name": "stdout",
     "output_type": "stream",
     "text": [
      "Best parameter: {'alpha': 0.01}, with score: -2.535843\n",
      "RUN: 68\n",
      "Best parameter: {'alpha': 0.01}, with score: -1.788496\n",
      "RUN: 69\n",
      "Best parameter: {'alpha': 0.01}, with score: -2.641887\n",
      "RUN: 70\n"
     ]
    },
    {
     "name": "stderr",
     "output_type": "stream",
     "text": [
      "C:\\Users\\20163461\\AppData\\Local\\Continuum\\anaconda3\\lib\\site-packages\\sklearn\\linear_model\\_coordinate_descent.py:532: ConvergenceWarning: Objective did not converge. You might want to increase the number of iterations. Duality gap: 1.4806538147827655, tolerance: 1.2534083376963958\n",
      "  positive)\n",
      "C:\\Users\\20163461\\AppData\\Local\\Continuum\\anaconda3\\lib\\site-packages\\sklearn\\linear_model\\_coordinate_descent.py:532: ConvergenceWarning: Objective did not converge. You might want to increase the number of iterations. Duality gap: 1.543708086566836, tolerance: 1.2534083376963958\n",
      "  positive)\n"
     ]
    },
    {
     "name": "stdout",
     "output_type": "stream",
     "text": [
      "Best parameter: {'alpha': 0.01}, with score: -2.73565\n",
      "RUN: 71\n",
      "Best parameter: {'alpha': 0.01}, with score: -2.242387\n",
      "RUN: 72\n",
      "Best parameter: {'alpha': 0.01}, with score: -1.839948\n",
      "RUN: 73\n",
      "Best parameter: {'alpha': 0.01}, with score: -1.966874\n",
      "RUN: 74\n",
      "Best parameter: {'alpha': 0.01}, with score: -1.744228\n",
      "RUN: 75\n",
      "Best parameter: {'alpha': 0.01}, with score: -2.013397\n",
      "RUN: 76\n",
      "Best parameter: {'alpha': 0.01}, with score: -1.977345\n",
      "RUN: 77\n"
     ]
    },
    {
     "name": "stderr",
     "output_type": "stream",
     "text": [
      "C:\\Users\\20163461\\AppData\\Local\\Continuum\\anaconda3\\lib\\site-packages\\sklearn\\linear_model\\_coordinate_descent.py:532: ConvergenceWarning: Objective did not converge. You might want to increase the number of iterations. Duality gap: 1.0013815014555996, tolerance: 0.8412295681934663\n",
      "  positive)\n"
     ]
    },
    {
     "name": "stdout",
     "output_type": "stream",
     "text": [
      "Best parameter: {'alpha': 0.01}, with score: -1.392345\n",
      "RUN: 78\n",
      "Best parameter: {'alpha': 0.01}, with score: -1.755308\n",
      "RUN: 79\n",
      "Best parameter: {'alpha': 0.01}, with score: -1.690551\n",
      "RUN: 80\n",
      "Best parameter: {'alpha': 0.01}, with score: -2.197279\n",
      "RUN: 81\n"
     ]
    },
    {
     "name": "stderr",
     "output_type": "stream",
     "text": [
      "C:\\Users\\20163461\\AppData\\Local\\Continuum\\anaconda3\\lib\\site-packages\\sklearn\\linear_model\\_coordinate_descent.py:532: ConvergenceWarning: Objective did not converge. You might want to increase the number of iterations. Duality gap: 1.1086534759709674, tolerance: 1.0104218513086112\n",
      "  positive)\n"
     ]
    },
    {
     "name": "stdout",
     "output_type": "stream",
     "text": [
      "Best parameter: {'alpha': 0.01}, with score: -2.50278\n",
      "RUN: 82\n",
      "Best parameter: {'alpha': 0.01}, with score: -1.816668\n",
      "RUN: 83\n",
      "Best parameter: {'alpha': 0.01}, with score: -2.047873\n",
      "RUN: 84\n",
      "Best parameter: {'alpha': 0.01}, with score: -1.866146\n",
      "RUN: 85\n"
     ]
    },
    {
     "name": "stderr",
     "output_type": "stream",
     "text": [
      "C:\\Users\\20163461\\AppData\\Local\\Continuum\\anaconda3\\lib\\site-packages\\sklearn\\linear_model\\_coordinate_descent.py:532: ConvergenceWarning: Objective did not converge. You might want to increase the number of iterations. Duality gap: 0.8628427188753142, tolerance: 0.8214420419815659\n",
      "  positive)\n"
     ]
    },
    {
     "name": "stdout",
     "output_type": "stream",
     "text": [
      "Best parameter: {'alpha': 0.01}, with score: -1.62028\n",
      "RUN: 86\n"
     ]
    },
    {
     "name": "stderr",
     "output_type": "stream",
     "text": [
      "C:\\Users\\20163461\\AppData\\Local\\Continuum\\anaconda3\\lib\\site-packages\\sklearn\\linear_model\\_coordinate_descent.py:532: ConvergenceWarning: Objective did not converge. You might want to increase the number of iterations. Duality gap: 0.99578128997259, tolerance: 0.9842785294622474\n",
      "  positive)\n"
     ]
    },
    {
     "name": "stdout",
     "output_type": "stream",
     "text": [
      "Best parameter: {'alpha': 0.01}, with score: -2.290951\n",
      "RUN: 87\n"
     ]
    },
    {
     "name": "stderr",
     "output_type": "stream",
     "text": [
      "C:\\Users\\20163461\\AppData\\Local\\Continuum\\anaconda3\\lib\\site-packages\\sklearn\\linear_model\\_coordinate_descent.py:532: ConvergenceWarning: Objective did not converge. You might want to increase the number of iterations. Duality gap: 1.5536674252371196, tolerance: 1.375946838077004\n",
      "  positive)\n",
      "C:\\Users\\20163461\\AppData\\Local\\Continuum\\anaconda3\\lib\\site-packages\\sklearn\\linear_model\\_coordinate_descent.py:532: ConvergenceWarning: Objective did not converge. You might want to increase the number of iterations. Duality gap: 1.33858279715662, tolerance: 1.2051802538972365\n",
      "  positive)\n",
      "C:\\Users\\20163461\\AppData\\Local\\Continuum\\anaconda3\\lib\\site-packages\\sklearn\\linear_model\\_coordinate_descent.py:532: ConvergenceWarning: Objective did not converge. You might want to increase the number of iterations. Duality gap: 1.4663162453710719, tolerance: 1.241155111644205\n",
      "  positive)\n",
      "C:\\Users\\20163461\\AppData\\Local\\Continuum\\anaconda3\\lib\\site-packages\\sklearn\\linear_model\\_coordinate_descent.py:532: ConvergenceWarning: Objective did not converge. You might want to increase the number of iterations. Duality gap: 1.8717246653660005, tolerance: 1.375946838077004\n",
      "  positive)\n",
      "C:\\Users\\20163461\\AppData\\Local\\Continuum\\anaconda3\\lib\\site-packages\\sklearn\\linear_model\\_coordinate_descent.py:532: ConvergenceWarning: Objective did not converge. You might want to increase the number of iterations. Duality gap: 1.3628070474569451, tolerance: 1.2051802538972365\n",
      "  positive)\n",
      "C:\\Users\\20163461\\AppData\\Local\\Continuum\\anaconda3\\lib\\site-packages\\sklearn\\linear_model\\_coordinate_descent.py:532: ConvergenceWarning: Objective did not converge. You might want to increase the number of iterations. Duality gap: 2.370082154153044, tolerance: 1.375946838077004\n",
      "  positive)\n",
      "C:\\Users\\20163461\\AppData\\Local\\Continuum\\anaconda3\\lib\\site-packages\\sklearn\\linear_model\\_coordinate_descent.py:532: ConvergenceWarning: Objective did not converge. You might want to increase the number of iterations. Duality gap: 1.585498557531936, tolerance: 1.2051802538972365\n",
      "  positive)\n"
     ]
    },
    {
     "name": "stdout",
     "output_type": "stream",
     "text": [
      "Best parameter: {'alpha': 0.01}, with score: -2.974518\n",
      "RUN: 88\n",
      "Best parameter: {'alpha': 0.01}, with score: -1.945546\n",
      "RUN: 89\n",
      "Best parameter: {'alpha': 0.01}, with score: -1.670627\n",
      "RUN: 90\n",
      "Best parameter: {'alpha': 0.01}, with score: -2.28188\n",
      "RUN: 91\n"
     ]
    },
    {
     "name": "stderr",
     "output_type": "stream",
     "text": [
      "C:\\Users\\20163461\\AppData\\Local\\Continuum\\anaconda3\\lib\\site-packages\\sklearn\\linear_model\\_coordinate_descent.py:532: ConvergenceWarning: Objective did not converge. You might want to increase the number of iterations. Duality gap: 1.1228561122364051, tolerance: 0.9408103186377553\n",
      "  positive)\n"
     ]
    },
    {
     "name": "stdout",
     "output_type": "stream",
     "text": [
      "Best parameter: {'alpha': 0.01}, with score: -2.018367\n",
      "RUN: 92\n",
      "Best parameter: {'alpha': 0.01}, with score: -1.985743\n",
      "RUN: 93\n"
     ]
    },
    {
     "name": "stderr",
     "output_type": "stream",
     "text": [
      "C:\\Users\\20163461\\AppData\\Local\\Continuum\\anaconda3\\lib\\site-packages\\sklearn\\linear_model\\_coordinate_descent.py:532: ConvergenceWarning: Objective did not converge. You might want to increase the number of iterations. Duality gap: 1.4897674279012563, tolerance: 1.3242232710760926\n",
      "  positive)\n",
      "C:\\Users\\20163461\\AppData\\Local\\Continuum\\anaconda3\\lib\\site-packages\\sklearn\\linear_model\\_coordinate_descent.py:532: ConvergenceWarning: Objective did not converge. You might want to increase the number of iterations. Duality gap: 1.3433388358597753, tolerance: 1.2008653457693068\n",
      "  positive)\n"
     ]
    },
    {
     "name": "stdout",
     "output_type": "stream",
     "text": [
      "Best parameter: {'alpha': 0.01}, with score: -1.87771\n",
      "RUN: 94\n"
     ]
    },
    {
     "name": "stderr",
     "output_type": "stream",
     "text": [
      "C:\\Users\\20163461\\AppData\\Local\\Continuum\\anaconda3\\lib\\site-packages\\sklearn\\linear_model\\_coordinate_descent.py:532: ConvergenceWarning: Objective did not converge. You might want to increase the number of iterations. Duality gap: 1.0422966005950878, tolerance: 0.9922592715159405\n",
      "  positive)\n"
     ]
    },
    {
     "name": "stdout",
     "output_type": "stream",
     "text": [
      "Best parameter: {'alpha': 0.01}, with score: -2.025741\n",
      "RUN: 95\n",
      "Best parameter: {'alpha': 0.01}, with score: -1.947547\n",
      "RUN: 96\n"
     ]
    },
    {
     "name": "stderr",
     "output_type": "stream",
     "text": [
      "C:\\Users\\20163461\\AppData\\Local\\Continuum\\anaconda3\\lib\\site-packages\\sklearn\\linear_model\\_coordinate_descent.py:532: ConvergenceWarning: Objective did not converge. You might want to increase the number of iterations. Duality gap: 1.4677746421318347, tolerance: 1.0922154106632314\n",
      "  positive)\n"
     ]
    },
    {
     "name": "stdout",
     "output_type": "stream",
     "text": [
      "Best parameter: {'alpha': 0.01}, with score: -2.135164\n",
      "RUN: 97\n",
      "Best parameter: {'alpha': 0.01}, with score: -1.747371\n",
      "RUN: 98\n",
      "Best parameter: {'alpha': 0.01}, with score: -1.974063\n",
      "RUN: 99\n",
      "Best parameter: {'alpha': 0.01}, with score: -1.701397\n",
      "RUN: 100\n"
     ]
    },
    {
     "name": "stderr",
     "output_type": "stream",
     "text": [
      "C:\\Users\\20163461\\AppData\\Local\\Continuum\\anaconda3\\lib\\site-packages\\sklearn\\linear_model\\_coordinate_descent.py:532: ConvergenceWarning: Objective did not converge. You might want to increase the number of iterations. Duality gap: 1.6782665834516148, tolerance: 1.1728817516472452\n",
      "  positive)\n",
      "C:\\Users\\20163461\\AppData\\Local\\Continuum\\anaconda3\\lib\\site-packages\\sklearn\\linear_model\\_coordinate_descent.py:532: ConvergenceWarning: Objective did not converge. You might want to increase the number of iterations. Duality gap: 1.7337265614021407, tolerance: 1.1728817516472452\n",
      "  positive)\n",
      "C:\\Users\\20163461\\AppData\\Local\\Continuum\\anaconda3\\lib\\site-packages\\sklearn\\linear_model\\_coordinate_descent.py:532: ConvergenceWarning: Objective did not converge. You might want to increase the number of iterations. Duality gap: 2.13768392918274, tolerance: 1.1728817516472452\n",
      "  positive)\n",
      "C:\\Users\\20163461\\AppData\\Local\\Continuum\\anaconda3\\lib\\site-packages\\sklearn\\linear_model\\_coordinate_descent.py:532: ConvergenceWarning: Objective did not converge. You might want to increase the number of iterations. Duality gap: 1.7839435289526735, tolerance: 1.1728817516472452\n",
      "  positive)\n",
      "C:\\Users\\20163461\\AppData\\Local\\Continuum\\anaconda3\\lib\\site-packages\\sklearn\\linear_model\\_coordinate_descent.py:532: ConvergenceWarning: Objective did not converge. You might want to increase the number of iterations. Duality gap: 1.2934608045065152, tolerance: 1.245909001873759\n",
      "  positive)\n",
      "C:\\Users\\20163461\\AppData\\Local\\Continuum\\anaconda3\\lib\\site-packages\\sklearn\\linear_model\\_coordinate_descent.py:532: ConvergenceWarning: Objective did not converge. You might want to increase the number of iterations. Duality gap: 1.2098786366392584, tolerance: 1.1728817516472452\n",
      "  positive)\n",
      "C:\\Users\\20163461\\AppData\\Local\\Continuum\\anaconda3\\lib\\site-packages\\sklearn\\linear_model\\_coordinate_descent.py:532: ConvergenceWarning: Objective did not converge. You might want to increase the number of iterations. Duality gap: 1.879392992179576, tolerance: 1.245909001873759\n",
      "  positive)\n"
     ]
    },
    {
     "name": "stdout",
     "output_type": "stream",
     "text": [
      "Best parameter: {'alpha': 0.01}, with score: -3.198194\n",
      "[1.00000000e-05 1.43844989e-05 2.06913808e-05 2.97635144e-05\n",
      " 4.28133240e-05 6.15848211e-05 8.85866790e-05 1.27427499e-04\n",
      " 1.83298071e-04 2.63665090e-04 3.79269019e-04 5.45559478e-04\n",
      " 7.84759970e-04 1.12883789e-03 1.62377674e-03 2.33572147e-03\n",
      " 3.35981829e-03 4.83293024e-03 6.95192796e-03 1.00000000e-02]\n"
     ]
    }
   ],
   "source": [
    "from sklearn.utils import resample\n",
    "# prepare bootstrap sample -- TESTING\n",
    "# boot_trainx, boot_trainy = resample(X, y, replace=True, n_samples=int(0.9*len(X)), random_state=1) #90 PROCENT ALS SAMPLES? \n",
    "# print('Bootstrap Sample: {} {}'.format(boot_trainx,boot_trainy))\n",
    "    \n",
    "#moet je nou voor al die 100 weer een gridsearch doen??\n",
    "\n",
    "def optimization(x_train, y_train, print_result = False, print_grid = False):\n",
    "    lasso = Lasso(tol=1e-2) #tolarance is standard 1e-4 but then it did not converge\n",
    "    alphas = np.logspace(-5, -2, 20)\n",
    "\n",
    "    tuned_parameters = [{'alpha': alphas}]\n",
    "    n_folds = 5\n",
    "\n",
    "    clf = GridSearchCV(lasso, tuned_parameters, cv=n_folds, refit=True, scoring='neg_mean_squared_error')\n",
    "    clf.fit(X_train, y_train)\n",
    "    if print_result:\n",
    "        print(\"Best parameter: {}, with score: {}\".format(clf.best_params_, round(clf.best_score_,6)))\n",
    "    if print_grid:\n",
    "        print(\"Grid score:\")\n",
    "        \n",
    "        means = clf.cv_results_['mean_test_score']\n",
    "        stds = clf.cv_results_['std_test_score']\n",
    "        \n",
    "        clf.predict(X_test)\n",
    "        for mean, std, params in zip(means, stds, clf.cv_results_['params']):\n",
    "            print(\"%0.3f (+/- %0.03f) for %r\\n\" % (mean, std * 2, params))\n",
    "        \n",
    "    test_scores = clf.cv_results_['mean_test_score']\n",
    "    test_scores = abs(test_scores)\n",
    "    \n",
    "    \n",
    "    return test_scores, alphas\n",
    "\n",
    "#Now for each train we do this optimalization and we add all to a dictionary\n",
    "results_a1 = list()\n",
    "results_a2 = list()\n",
    "results_a3 = list()\n",
    "results_a4 = list()\n",
    "results_a5 = list()\n",
    "results_a6 = list()\n",
    "results_a7 = list()\n",
    "results_a8 = list()\n",
    "results_a9 = list()\n",
    "results_a10 = list()\n",
    "results_a11 = list()\n",
    "results_a12 = list()\n",
    "results_a13 = list()\n",
    "results_a14 = list()\n",
    "results_a15 = list()\n",
    "results_a16 = list()\n",
    "results_a17 = list()\n",
    "results_a18 = list()\n",
    "results_a19 = list()\n",
    "results_a20 = list()\n",
    "\n",
    "for i in range(1,101): #101\n",
    "    print(\"RUN: {}\".format(i))\n",
    "    #make the bootstrap\n",
    "    boot_trainx, boot_trainy= resample(X, y, replace=True, n_samples=int(0.9*len(X)))\n",
    "    #perform optimization\n",
    "    nonzero_coef_list = list()\n",
    "    test_scores, alphas = optimization(boot_trainx, boot_trainy, print_result=True)\n",
    "    results_a1.append(test_scores[0])\n",
    "    results_a2.append(test_scores[1])\n",
    "    results_a3.append(test_scores[2])\n",
    "    results_a4.append(test_scores[3])\n",
    "    results_a5.append(test_scores[4])\n",
    "    results_a6.append(test_scores[5])\n",
    "    results_a7.append(test_scores[6])\n",
    "    results_a8.append(test_scores[7])\n",
    "    results_a9.append(test_scores[8])\n",
    "    results_a10.append(test_scores[9])\n",
    "    results_a11.append(test_scores[10])\n",
    "    results_a12.append(test_scores[11])\n",
    "    results_a13.append(test_scores[12])\n",
    "    results_a14.append(test_scores[13])\n",
    "    results_a15.append(test_scores[14])\n",
    "    results_a16.append(test_scores[15])\n",
    "    results_a17.append(test_scores[16])\n",
    "    results_a18.append(test_scores[17])\n",
    "    results_a19.append(test_scores[18])\n",
    "    results_a20.append(test_scores[19])\n",
    "    \n",
    "print(alphas)"
   ]
  },
  {
   "cell_type": "code",
   "execution_count": 24,
   "metadata": {},
   "outputs": [
    {
     "data": {
      "image/png": "[encoded data removed]",
      "text/plain": [
       "<Figure size 432x288 with 1 Axes>"
      ]
     },
     "metadata": {
      "needs_background": "light"
     },
     "output_type": "display_data"
    }
   ],
   "source": [
    "#Now we determine the mean and variance per alpha\n",
    "import matplotlib.pyplot as plt\n",
    "\n",
    "def create_mean_std(results):\n",
    "    means = list()\n",
    "    varsa = list()\n",
    "    for result in results:\n",
    "        means.append(np.mean(result))\n",
    "        varsa.append(np.std(result))\n",
    "    return means, varsa\n",
    "\n",
    "result_list = [results_a1, results_a2, results_a3, results_a4, results_a5, results_a6, results_a7, results_a8, results_a9, results_a10,\n",
    "              results_a11, results_a12, results_a13, results_a14, results_a15, results_a16, results_a17, results_a18, results_a19, results_a20]\n",
    "means, varsa= create_mean_std(result_list)\n",
    "\n",
    "\n",
    "plt.errorbar(alphas, means, yerr=[varsa, varsa], fmt='ro', ecolor='k', capsize=10, elinewidth=0.5)\n",
    "plt.xscale('log')\n",
    "plt.xlabel('Lambda')\n",
    "plt.ylabel('MSE')\n",
    "plt.show()"
   ]
  },
  {
   "cell_type": "markdown",
   "metadata": {},
   "source": [
    "***Answer***: the variance decreases when lambda increases. This means that the model with the least nonzero coefficients performs the best based on the mean squared error. We expect this to a certain extend, however with the most optimal lambda the percentage of nonzero coefficients is really low, which we did not expect."
   ]
  },
  {
   "cell_type": "markdown",
   "metadata": {},
   "source": [
    "## Logistic regression\n",
    "\n",
    "<p><font color='#770a0a'>Write the expression of the objective function for the penalized logistic regression with $L_1$ and $L_2$ regularisation (as in Elastic net).</font></p>"
   ]
  },
  {
   "cell_type": "markdown",
   "metadata": {},
   "source": [
    "The expression of the objective function is\n",
    "\n",
    "$$ L_{enet}(\\hat{\\beta})= \\frac{\\sum_{i=1}^{n}(y_i -X_i \\hat{\\beta})^2}{2n} + \\lambda \\bigg(\\frac{1-\\alpha}{2}\\sum_{j=1}^{m} \\hat{\\beta}_j^2 + \\alpha \\sum_{j=1}^{m} |\\hat{\\beta}_j|\\bigg)$$\n",
    "\n",
    "with $$\\frac{\\sum_{i=1}^{n}(y_i -X_i \\hat{\\beta})^2}{2n}= RSS$$.\n",
    "\n",
    "From which follows $$\\hat{\\beta}^{elasticnet} = \\text{argmin} \\bigg(RSS+\\lambda \\sum_{j=1}^{p} (\\alpha \\beta_j^2 + (1-\\alpha) |\\beta_j|)\\bigg)$$."
   ]
  }
 ],
 "metadata": {
  "kernelspec": {
   "display_name": "Python 3",
   "language": "python",
   "name": "python3"
  },
  "language_info": {
   "codemirror_mode": {
    "name": "ipython",
    "version": 3
   },
   "file_extension": ".py",
   "mimetype": "text/x-python",
   "name": "python",
   "nbconvert_exporter": "python",
   "pygments_lexer": "ipython3",
   "version": "3.7.10"
  }
 },
 "nbformat": 4,
 "nbformat_minor": 2
}
