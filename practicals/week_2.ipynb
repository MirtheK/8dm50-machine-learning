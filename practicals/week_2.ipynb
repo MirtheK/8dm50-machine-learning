{
 "cells": [
  {
   "cell_type": "markdown",
   "metadata": {},
   "source": [
    "# Under- and overfitting, model selection\n",
    "\n",
    "## Preliminaries\n",
    "\n",
    "In the first set of exercises you had to implement the training and evaluation of the linear regression and $k$-NN methods from scratch in order to practice your `numpy` skills. From this set of exercises onward, you can use the implementations provided in `scikit-learn` or other higher-level libraries. We start this set of exercises by demonstrating some of the features of `scikit-learn`.\n",
    "\n",
    "For example, implementation of linear regression model fitting with an analytical solution for the parameters is provided by the class `sklearn.linar_model.LinearRegression`. You can train a linear regression model in the following way:"
   ]
  },
  {
   "cell_type": "code",
   "execution_count": 1,
   "metadata": {},
   "outputs": [
    {
     "data": {
      "text/plain": [
       "LinearRegression()"
      ]
     },
     "execution_count": 1,
     "metadata": {},
     "output_type": "execute_result"
    }
   ],
   "source": [
    "import numpy as np\n",
    "from sklearn import datasets, linear_model\n",
    "\n",
    "# load the diabetes dataset\n",
    "diabetes = datasets.load_diabetes()\n",
    "\n",
    "# use only one feature\n",
    "X = diabetes.data[:, np.newaxis, 2]\n",
    "y = diabetes.target\n",
    "\n",
    "# split the data into training/testing sets\n",
    "X_train = X[:-20]\n",
    "X_test = X[-20:]\n",
    "\n",
    "# split the targets into training/testing sets\n",
    "y_train = y[:-20]\n",
    "y_test = y[-20:]\n",
    "\n",
    "# create linear regression object\n",
    "model = linear_model.LinearRegression()\n",
    "\n",
    "# train the model using the training dataset\n",
    "model.fit(X_train, y_train)"
   ]
  },
  {
   "cell_type": "markdown",
   "metadata": {},
   "source": [
    "Let's visualize the training dataset and the learned regression model."
   ]
  },
  {
   "cell_type": "code",
   "execution_count": 2,
   "metadata": {},
   "outputs": [
    {
     "data": {
      "image/png": "[encoded data removed]",
      "text/plain": [
       "<Figure size 432x288 with 1 Axes>"
      ]
     },
     "metadata": {
      "needs_background": "light"
     },
     "output_type": "display_data"
    }
   ],
   "source": [
    "%matplotlib inline\n",
    "import matplotlib.pyplot as plt\n",
    "\n",
    "fig = plt.figure()\n",
    "plt.plot(X_train, y_train, 'r.', markersize=12)\n",
    "X_edge = np.array([np.min(X_train, 0), np.max(X_train, 0)])\n",
    "plt.plot(X_edge, model.predict(X_edge), 'b-')\n",
    "plt.legend(('Data', 'Linear regression'), loc='lower right')\n",
    "plt.title('Linear regression')\n",
    "plt.xlabel('$x$')\n",
    "plt.ylabel('$y$')\n",
    "plt.show()"
   ]
  },
  {
   "cell_type": "markdown",
   "metadata": {},
   "source": [
    "Once trained, the model can be used to make predictions on the test data:"
   ]
  },
  {
   "cell_type": "code",
   "execution_count": 3,
   "metadata": {},
   "outputs": [],
   "source": [
    "# Make predictions using the testing dataset\n",
    "prediction = model.predict(X_test)"
   ]
  },
  {
   "cell_type": "markdown",
   "metadata": {},
   "source": [
    "The next step (not shown here) is to evaluate the performance of the trained model.\n",
    "\n",
    "Note that the `scikit-learn` interface works by first initializing an object from the class that implements the machine learning model (linear regression in this case) and then fitting the initialized model using the data in the training set. Finally, the trained (fitted) model can be used to make predictions on unseen data. In fact, all models implemented in this library follow the same *initialize-fit-predict* programming interface. For example, a $k$-NN classifier can be trained in the following way:"
   ]
  },
  {
   "cell_type": "code",
   "execution_count": 4,
   "metadata": {},
   "outputs": [],
   "source": [
    "from sklearn.model_selection import train_test_split\n",
    "from sklearn import datasets, neighbors\n",
    "\n",
    "breast_cancer = datasets.load_breast_cancer()\n",
    "\n",
    "X = breast_cancer.data\n",
    "y = breast_cancer.target\n",
    "\n",
    "# make use of the train_test_split() utility function instead\n",
    "# of manually dividing the data\n",
    "X_train, X_test, y_train, y_test = train_test_split(X, y, stratify=y, random_state=40)\n",
    "\n",
    "# initialize a 3-NN classifier\n",
    "model = neighbors.KNeighborsClassifier(n_neighbors=3)\n",
    "\n",
    "# train the model using the training dataset\n",
    "model.fit(X_train, y_train)\n",
    "\n",
    "# make predictions using the testing dataset\n",
    "prediction = model.predict(X_test)"
   ]
  },
  {
   "cell_type": "markdown",
   "metadata": {},
   "source": [
    "Note that the features in the breast cancer dataset have different scales (some have on average very small absolute values, and some very large), which means that the distance metric used by $k$-NN will me dominated by the features with large values. You can use any of the number of feature transformation methods implemented in `scikit-learn` to scale the features. For example, you can use the `sklearn.preprocessing.StandardScaler` method to transform all features to a have a zero mean and unit variance:"
   ]
  },
  {
   "cell_type": "code",
   "execution_count": 5,
   "metadata": {},
   "outputs": [],
   "source": [
    "from sklearn.preprocessing import StandardScaler\n",
    "\n",
    "scaler = StandardScaler()\n",
    "scaler.fit(X_train)\n",
    "\n",
    "X_train_scaled = scaler.transform(X_train)"
   ]
  },
  {
   "cell_type": "markdown",
   "metadata": {},
   "source": [
    "The scaler has its own parameters which are the means and standard deviations of the features estimated from the training set. If you train a model with the scaled features, you will have to remember to also apply the scaling transformation every time you make a prediction on new unseen and unscaled data. This is somewhat prone to error. One option for making the code more robust is to create a processing pipeline that includes the scaling and $k$-NN models in a sequence:"
   ]
  },
  {
   "cell_type": "code",
   "execution_count": 6,
   "metadata": {},
   "outputs": [],
   "source": [
    "from sklearn.pipeline import Pipeline\n",
    "\n",
    "knn = neighbors.KNeighborsClassifier(n_neighbors=3)\n",
    "\n",
    "model = Pipeline([\n",
    "                 (\"scaler\", scaler),\n",
    "                 (\"knn\", knn)\n",
    "                ])\n",
    "\n",
    "# train the model using the training dataset\n",
    "model.fit(X_train, y_train)\n",
    "\n",
    "# make predictions using the testing dataset\n",
    "prediction = model.predict(X_test)\n"
   ]
  },
  {
   "cell_type": "markdown",
   "metadata": {},
   "source": [
    "If you are curious, more information about the design of the `scikit-learn` application programming interface (API) can be found [in this paper](https://arxiv.org/pdf/1309.0238.pdf). "
   ]
  },
  {
   "cell_type": "markdown",
   "metadata": {},
   "source": [
    "## Exercises\n",
    "\n",
    "### Bias-variance decomposition\n",
    "\n",
    "Show that the mean squared error of the estimate of a parameter can be decomposed into an expression that includes both the bias and variance (Eq. 5.53-5.54 in \"Deep learning\" by Goodfellow et al.). "
   ]
  },
  {
   "cell_type": "markdown",
   "metadata": {},
   "source": [
    "$$Bias^{2}(\\hat{\\theta}{S}, \\theta) = (E[\\hat{\\theta}{S}] - \\theta)^{2}$$\n",
    "$$ = E^{2}[\\hat{\\theta}{S}] + \\theta^{2} - 2E[\\hat{\\theta}{S}]\\theta$$\n",
    "\n",
    "$$Var(\\hat{\\theta}{S}) = E[\\hat{\\theta^{2}}{S}] - E^{2}[\\hat{\\theta}_{S}]$$\n",
    "\n",
    "$$E[(\\hat{\\theta}_{S}-\\theta)^{2}] = E[\\hat{\\theta^{2}}_S] + \\theta^{2} - 2E[\\hat{\\theta}_S]\\theta$$\n",
    "\n",
    "$$MSE = E[(\\hat{\\theta}{S}-\\theta)^{2}] = Bias^{2}(\\hat{\\theta}{S}, \\theta) + Var(\\hat{\\theta}_{S})$$"
   ]
  },
  {
   "cell_type": "markdown",
   "metadata": {},
   "source": [
    "### Polynomial regression\n",
    "\n",
    "For this exercise we will be using generated data to better show the effects of the different polynomial orders.\n",
    "The data is created using the make_polynomial_regression function."
   ]
  },
  {
   "cell_type": "code",
   "execution_count": 7,
   "metadata": {},
   "outputs": [
    {
     "data": {
      "text/plain": [
       "[<matplotlib.lines.Line2D at 0x29387239108>]"
      ]
     },
     "execution_count": 7,
     "metadata": {},
     "output_type": "execute_result"
    },
    {
     "data": {
      "image/png": "[encoded data removed]",
      "text/plain": [
       "<Figure size 432x288 with 1 Axes>"
      ]
     },
     "metadata": {
      "needs_background": "light"
     },
     "output_type": "display_data"
    }
   ],
   "source": [
    "%matplotlib inline\n",
    "\n",
    "def generate_dataset(n=100, degree=1, noise=1, factors=None):\n",
    "    # Generates a dataset by adding random noise to a randomly\n",
    "    # generated polynomial function.\n",
    "    \n",
    "    x = np.random.uniform(low=-1, high=1, size=n)\n",
    "    \n",
    "    factors = np.random.uniform(0, 10, degree+1)\n",
    "    \n",
    "    y = np.zeros(x.shape)\n",
    "    \n",
    "    for idx in range(degree+1):\n",
    "        y += factors[idx] * (x ** idx)\n",
    "\n",
    "    # add noise\n",
    "    y += np.random.normal(-noise, noise, n)\n",
    "    \n",
    "    return x, y\n",
    "\n",
    "# load generated data\n",
    "np.random.seed(0)\n",
    "\n",
    "X, y = generate_dataset(n=100, degree=4, noise=1.5)\n",
    "\n",
    "plt.plot(X, y, 'r.', markersize=12)"
   ]
  },
  {
   "cell_type": "markdown",
   "metadata": {},
   "source": [
    "Implement polynomial regression using the `sklearn.preprocessing.PolynomialFeatures` transformation. Using the `sklearn.grid_search.GridSearchCV` class, perform a grid search of the polynomial order hyperparameter space with cross-validation and report the performance on an independent test set.\n",
    "\n",
    "Plot a learning curve that show the validation accuracy as a function of the polynomial order. \n",
    "\n",
    "<p><font color='#770a0a'>Which models have a high bias, and which models have high variance? Motivate your answer.</font><p>\n",
    "    \n",
    "Repeat this experiment, this time using the diabetes dataset instead of the generated data."
   ]
  },
  {
   "cell_type": "code",
   "execution_count": 8,
   "metadata": {},
   "outputs": [
    {
     "name": "stdout",
     "output_type": "stream",
     "text": [
      "Distribution of the datasets: (shapes)\n",
      "X train: (80, 1), y train: (80, 1)\n",
      "X test: (20, 1), y test: (20, 1)\n",
      "\n",
      "Tuning hyper-parameter for negative MSE - less negative score is better\n",
      "Best parameter: {'polynomialfeatures__degree': 6}, with score: -0.066877\n",
      "Grid score:\n",
      "-0.405 (+/- 0.107) for {'polynomialfeatures__degree': 1}\n",
      "\n",
      "-0.106 (+/- 0.059) for {'polynomialfeatures__degree': 2}\n",
      "\n",
      "-0.067 (+/- 0.036) for {'polynomialfeatures__degree': 3}\n",
      "\n",
      "-0.068 (+/- 0.042) for {'polynomialfeatures__degree': 4}\n",
      "\n",
      "-0.067 (+/- 0.043) for {'polynomialfeatures__degree': 5}\n",
      "\n",
      "-0.067 (+/- 0.043) for {'polynomialfeatures__degree': 6}\n",
      "\n",
      "-0.068 (+/- 0.045) for {'polynomialfeatures__degree': 7}\n",
      "\n",
      "-0.068 (+/- 0.046) for {'polynomialfeatures__degree': 8}\n",
      "\n",
      "-0.070 (+/- 0.045) for {'polynomialfeatures__degree': 9}\n",
      "\n",
      "-0.073 (+/- 0.046) for {'polynomialfeatures__degree': 10}\n",
      "\n",
      "\n",
      "Applying the model to an independent test set:\n",
      "Polynominal order used: 6, MSE obtained: 0.066899\n",
      "\n",
      "\n",
      "\n"
     ]
    },
    {
     "data": {
      "image/png": "[encoded data removed]",
      "text/plain": [
       "<Figure size 432x288 with 1 Axes>"
      ]
     },
     "metadata": {
      "needs_background": "light"
     },
     "output_type": "display_data"
    }
   ],
   "source": [
    "from sklearn.preprocessing import PolynomialFeatures\n",
    "from sklearn.linear_model import LinearRegression\n",
    "from sklearn.preprocessing import StandardScaler\n",
    "from sklearn.model_selection import GridSearchCV\n",
    "from sklearn.pipeline import make_pipeline\n",
    "\n",
    "X_train = X[:-20, np.newaxis]\n",
    "y_train = y[:-20, np.newaxis]\n",
    "X_test = X[-20:, np.newaxis]\n",
    "y_test = y[-20:, np.newaxis]\n",
    "\n",
    "print(\"Distribution of the datasets: (shapes)\")\n",
    "print(\"X train: {}, y train: {}\\nX test: {}, y test: {}\\n\".format(X_train.shape, y_train.shape, X_test.shape, y_test.shape))\n",
    "\n",
    "scaler = StandardScaler()\n",
    "scaler.fit(X_train)\n",
    "scalery = StandardScaler()\n",
    "scalery.fit(y_train)\n",
    "\n",
    "X_train_scaled = scaler.transform(X_train)\n",
    "y_train_scaled = scalery.transform(y_train)\n",
    "X_test_scaled = scaler.transform(X_test)\n",
    "y_test_scaled = scalery.transform(y_test)\n",
    "\n",
    "polyreg=make_pipeline(PolynomialFeatures(),LinearRegression())\n",
    "\n",
    "orders = range(1,11) #TOT WELKE ORDER MOETEN WE DOEN\n",
    "tune_parameter = [{'polynomialfeatures__degree': orders}] \n",
    "score = 'neg_mean_squared_error'\n",
    "print(\"Tuning hyper-parameter for negative MSE - less negative score is better\")\n",
    "clf = GridSearchCV(polyreg, tune_parameter, scoring=score, return_train_score=True)\n",
    "clf.fit(X_train_scaled.reshape(-1,1), y_train_scaled)\n",
    "\n",
    "print(\"Best parameter: {}, with score: {}\".format(clf.best_params_, round(clf.best_score_,6)))\n",
    "print_grid = True\n",
    "if print_grid:\n",
    "    print(\"Grid score:\")\n",
    "    means = clf.cv_results_['mean_test_score']\n",
    "    stds = clf.cv_results_['std_test_score']\n",
    "    for mean, std, params in zip(means, stds, clf.cv_results_['params']):\n",
    "        print(\"%0.3f (+/- %0.03f) for %r\\n\" % (mean, std * 2, params))\n",
    "\n",
    "#Obtain the final degree from the gridsearch and score on the independent test dataset\n",
    "print(\"\\nApplying the model to an independent test set:\")\n",
    "final_degree = clf.best_params_['polynomialfeatures__degree']\n",
    "test_score = clf.score(X_test_scaled.reshape(-1,1), y_test_scaled)\n",
    "print(\"Polynominal order used: {}, MSE obtained: {}\".format(final_degree, abs(round(test_score, 6))))\n",
    "\n",
    "#Make a plot\n",
    "print('\\n\\n')\n",
    "test_scores = clf.cv_results_['mean_test_score']\n",
    "train_scores = clf.cv_results_['mean_train_score'] \n",
    "\n",
    "#Make a plot using the absolute value for MSE - lower is then better (more intuitive)\n",
    "test_scores_abs = abs(test_scores)\n",
    "train_scores_abs = abs(train_scores)\n",
    "plt.plot(orders, train_scores_abs, label='Train score')\n",
    "plt.plot(orders, test_scores_abs, label='Validation score') \n",
    "plt.title('MSE for a polynominal regression model using different polynomial orders')\n",
    "plt.xlabel('Polynominal order')\n",
    "plt.ylabel('MSE')\n",
    "plt.xticks(orders)\n",
    "plt.legend(loc='best')\n",
    "# plt.grid() #I used this to help answer the question\n",
    "plt.show()"
   ]
  },
  {
   "cell_type": "markdown",
   "metadata": {},
   "source": [
    "**Answer:** Models with high bias and low variance are there where the training and testing scores are close, so up until polynomial order 4, Models with high variance and low bias are there where the training and testing scores are further apart, starting from polynomial order 6."
   ]
  },
  {
   "cell_type": "code",
   "execution_count": 9,
   "metadata": {},
   "outputs": [
    {
     "name": "stdout",
     "output_type": "stream",
     "text": [
      "Distribution of the datasets: (shapes)\n",
      "X train: (422, 1), y train: (422, 1)\n",
      "X test: (20, 1), y test: (20, 1)\n",
      "\n",
      "Tuning hyper-parameter for negative MSE - less negative score is better\n",
      "Best parameter: {'polynomialfeatures__degree': 6}, with score: -0.664708\n",
      "Grid score:\n",
      "-0.667 (+/- 0.043) for {'polynomialfeatures__degree': 1}\n",
      "\n",
      "-0.675 (+/- 0.059) for {'polynomialfeatures__degree': 2}\n",
      "\n",
      "-0.675 (+/- 0.059) for {'polynomialfeatures__degree': 3}\n",
      "\n",
      "-0.679 (+/- 0.073) for {'polynomialfeatures__degree': 4}\n",
      "\n",
      "-0.673 (+/- 0.059) for {'polynomialfeatures__degree': 5}\n",
      "\n",
      "-0.665 (+/- 0.045) for {'polynomialfeatures__degree': 6}\n",
      "\n",
      "-0.669 (+/- 0.053) for {'polynomialfeatures__degree': 7}\n",
      "\n",
      "-0.730 (+/- 0.228) for {'polynomialfeatures__degree': 8}\n",
      "\n",
      "-0.715 (+/- 0.151) for {'polynomialfeatures__degree': 9}\n",
      "\n",
      "-1.464 (+/- 2.987) for {'polynomialfeatures__degree': 10}\n",
      "\n",
      "\n",
      "Applying the model to an independent test set:\n",
      "Polynominal order used on diabetes dataset: 6, MSE obtained: 0.466879\n",
      "\n",
      "\n",
      "\n"
     ]
    },
    {
     "data": {
      "image/png": "[encoded data removed]",
      "text/plain": [
       "<Figure size 432x288 with 1 Axes>"
      ]
     },
     "metadata": {
      "needs_background": "light"
     },
     "output_type": "display_data"
    }
   ],
   "source": [
    "from sklearn.preprocessing import PolynomialFeatures\n",
    "from sklearn.linear_model import LinearRegression\n",
    "from sklearn.preprocessing import StandardScaler\n",
    "from sklearn.model_selection import GridSearchCV\n",
    "from sklearn.pipeline import make_pipeline\n",
    "\n",
    "# load the diabetes dataset\n",
    "diabetes = datasets.load_diabetes()\n",
    "\n",
    "# use only one feature\n",
    "X_dia = diabetes.data[:, np.newaxis, 2]\n",
    "y_dia = diabetes.target[:, np.newaxis]\n",
    "\n",
    "# split the data into training/testing sets\n",
    "X_train_dia = X_dia[:-20]\n",
    "X_test_dia = X_dia[-20:]\n",
    "\n",
    "# split the targets into training/testing sets \n",
    "y_train_dia = y_dia[:-20]\n",
    "y_test_dia = y_dia[-20:]\n",
    "\n",
    "print(\"Distribution of the datasets: (shapes)\")\n",
    "print(\"X train: {}, y train: {}\\nX test: {}, y test: {}\\n\".format(X_train_dia.shape, y_train_dia.shape, X_test_dia.shape, y_test_dia.shape))\n",
    "\n",
    "scaler_dia = StandardScaler()\n",
    "scaler_dia.fit(X_train_dia)\n",
    "scalery_dia = StandardScaler()\n",
    "scalery_dia.fit(y_train_dia)\n",
    "\n",
    "X_train_dia_scaled = scaler_dia.transform(X_train_dia)\n",
    "y_train_dia_scaled = scalery_dia.transform(y_train_dia)\n",
    "X_test_dia_scaled = scaler_dia.transform(X_test_dia)\n",
    "y_test_dia_scaled = scalery_dia.transform(y_test_dia)\n",
    "\n",
    "polyreg=make_pipeline(PolynomialFeatures(),LinearRegression())\n",
    "\n",
    "orders = range(1,11)\n",
    "tune_parameter = [{'polynomialfeatures__degree': orders}]\n",
    "score = 'neg_mean_squared_error'\n",
    "print(\"Tuning hyper-parameter for negative MSE - less negative score is better\")\n",
    "clf_dia = GridSearchCV(polyreg, tune_parameter, scoring=score, return_train_score=True)\n",
    "clf_dia.fit(X_train_dia_scaled.reshape(-1,1), y_train_dia_scaled)\n",
    "\n",
    "print(\"Best parameter: {}, with score: {}\".format(clf_dia.best_params_, round(clf_dia.best_score_, 6)))\n",
    "print_grid = True\n",
    "if print_grid:\n",
    "    print(\"Grid score:\")\n",
    "    means = clf_dia.cv_results_['mean_test_score']\n",
    "    stds = clf_dia.cv_results_['std_test_score']\n",
    "    for mean, std, params in zip(means, stds, clf_dia.cv_results_['params']):\n",
    "        print(\"%0.3f (+/- %0.03f) for %r\\n\" % (mean, std * 2, params))\n",
    "\n",
    "#Obtain the final degree from the gridsearch and score on the independent test dataset\n",
    "print(\"\\nApplying the model to an independent test set:\")\n",
    "final_degree_dia = clf_dia.best_params_['polynomialfeatures__degree']\n",
    "test_score_dia = clf_dia.score(X_test_dia_scaled.reshape(-1,1), y_test_dia_scaled)\n",
    "print(\"Polynominal order used on diabetes dataset: {}, MSE obtained: {}\".format(final_degree_dia, abs(round(test_score_dia, 6))))\n",
    "\n",
    "#Make a plot\n",
    "print('\\n\\n')\n",
    "test_scores_dia = clf_dia.cv_results_['mean_test_score']\n",
    "train_scores_dia = clf_dia.cv_results_['mean_train_score'] \n",
    "\n",
    "max_y = round(max(test_scores_dia),2)\n",
    "min_y = round(min(test_scores_dia),2)\n",
    "stepsize = (max_y - min_y) / 5\n",
    "\n",
    "#Make a plot using the absolute value for MSE - lower is then better (more intuitive)\n",
    "test_scores_dia_abs = abs(test_scores_dia)\n",
    "train_scores_dia_abs = abs(train_scores_dia)\n",
    "\n",
    "max_y = round(max(test_scores_dia_abs),2)\n",
    "min_y = round(min(test_scores_dia_abs),2)\n",
    "stepsize = (max_y - min_y) / 5\n",
    "\n",
    "plt.plot(orders, train_scores_dia_abs, label='Train score')\n",
    "plt.plot(orders, test_scores_dia_abs, label='Validation score') \n",
    "plt.title('MSE for a polynominal regression model using different polynomial orders for diabetes dataset')\n",
    "plt.xlabel('Polynominal order')\n",
    "plt.ylabel('MSE')\n",
    "plt.xticks(orders)\n",
    "plt.yticks(np.arange(min_y, max_y + 0.01, stepsize))\n",
    "plt.legend(loc='best')\n",
    "# plt.grid() #I used this to help answer the question\n",
    "plt.show()"
   ]
  },
  {
   "cell_type": "markdown",
   "metadata": {},
   "source": [
    "**Answer:** Models with high bias and low variance are where the training and testing scores are close, so up until polynomial order 6. Models with high variance and low bias are where the training and testing scores are further apart, starting from polynomial order 8."
   ]
  },
  {
   "cell_type": "markdown",
   "metadata": {},
   "source": [
    "### ROC curve analysis\n",
    "A common method to evaluate binary classifiers is the receiver operating characteristic (ROC) curve. Similar to the week one practicals, implement a $k$-NN classifier on the breast cancer dataset, however, his time use the $k$-NN pipeline from the preliminary. Train the model for different values of $k$ and evaluate their respective performance with an ROC curve, use the `sklearn.metrics.roc_curve` function."
   ]
  },
  {
   "cell_type": "code",
   "execution_count": 19,
   "metadata": {},
   "outputs": [
    {
     "data": {
      "image/png": "[encoded data removed]",
      "text/plain": [
       "<Figure size 432x288 with 1 Axes>"
      ]
     },
     "metadata": {
      "needs_background": "light"
     },
     "output_type": "display_data"
    }
   ],
   "source": [
    "from sklearn.model_selection import train_test_split\n",
    "from sklearn import datasets, neighbors\n",
    "\n",
    "breast_cancer = datasets.load_breast_cancer()\n",
    "\n",
    "X = breast_cancer.data\n",
    "y = breast_cancer.target\n",
    "\n",
    "# make use of the train_test_split() utility function instead\n",
    "# of manually dividing the data\n",
    "X_train, X_test, y_train, y_test = train_test_split(X, y, stratify=y, random_state=40)\n",
    "\n",
    "from sklearn.pipeline import Pipeline\n",
    "\n",
    "knn = neighbors.KNeighborsClassifier(n_neighbors=2)\n",
    "\n",
    "model = Pipeline([\n",
    "                 (\"scaler\", scaler),\n",
    "                 (\"knn\", knn)\n",
    "                ])\n",
    "\n",
    "# train the model using the training dataset\n",
    "model.fit(X_train, y_train)\n",
    "\n",
    "# make predictions using the testing dataset\n",
    "prediction = model.predict(X_test)\n",
    "\n",
    "\n",
    "import numpy as np\n",
    "from sklearn import metrics\n",
    "from sklearn.metrics import auc\n",
    "import matplotlib.pyplot as plt\n",
    "\n",
    "y_score = model.predict_proba(X_test)\n",
    "fpr, tpr, thresholds = metrics.roc_curve(y_test, y_score[:,1])\n",
    "\n",
    "roc_auc = auc(fpr, tpr)\n",
    "\n",
    "plt.title('Receiver Operating Characteristic')\n",
    "plt.plot(fpr, tpr, 'b', label = 'AUC = %0.2f' % roc_auc)\n",
    "plt.legend(loc = 'lower right')\n",
    "plt.plot([0, 1], [0, 1],'r--')\n",
    "plt.xlim([0, 1])\n",
    "plt.ylim([0, 1])\n",
    "plt.ylabel('True Positive Rate')\n",
    "plt.xlabel('False Positive Rate')\n",
    "plt.title('ROC Curve of kNN')\n",
    "plt.show()\n"
   ]
  },
  {
   "cell_type": "markdown",
   "metadata": {},
   "source": [
    "### $F_1$ score and Dice similarity coefficient\n",
    "\n",
    "The Dice similarity coefficient is a very popular evaluation measure for image segmentation applications. Assuming that $A$ is the ground truth segmentation of an object represented as a binary image, and $B$ is the binary output of an image segmentation method, the Dice similarity coefficient is computed as:\n",
    "\n",
    "$\\text{Dice}(A,B) = \\frac{2|A\\cap B|}{|A| + |B|}$\n",
    "\n",
    "where $|\\cdot|$ represents the cardinality of the objects (e.g. $|A|$ is the number of non-zero pixels in the ground truth segmentation).\n",
    "\n",
    "For example, the Dice similarity can be computed in the following way:"
   ]
  },
  {
   "cell_type": "code",
   "execution_count": null,
   "metadata": {},
   "outputs": [],
   "source": [
    "# generate some test objecys\n",
    "A = np.zeros((32, 32))\n",
    "A[10:-10, 10:-10] = 1\n",
    "B = np.zeros((32, 32))\n",
    "B[5:-15, 5:-15] = 1\n",
    "\n",
    "dice = 2*np.sum(A*B)/(np.sum(A)+np.sum(B))\n",
    "\n",
    "# display the results\n",
    "plt.plot()\n",
    "plt.imshow(A)\n",
    "plt.imshow(B, alpha=0.7)\n",
    "\n",
    "print(dice)"
   ]
  },
  {
   "cell_type": "code",
   "execution_count": null,
   "metadata": {},
   "outputs": [],
   "source": [
    "TP = 0\n",
    "FP = 0\n",
    "FN = 0\n",
    "for i in range(len(A[1,:])):\n",
    "    for j in range(len(A[1,:])):\n",
    "        if A[i,j] == 1 and B[i,j] == 1:\n",
    "            TP = TP + 1\n",
    "        if A[i,j] == 0 and B[i,j] == 1:\n",
    "            FP = FP + 1\n",
    "        if A[i,j] == 1 and B[i,j] == 0:\n",
    "            FN = FN + 1\n",
    "precision = TP/(TP+FP)\n",
    "recall = TP/(TP+FN)\n",
    "\n",
    "F_1 = 2*(precision*recall)/(precision+recall)\n",
    "print(F_1)"
   ]
  },
  {
   "cell_type": "markdown",
   "metadata": {},
   "source": [
    "<p><font color='#770a0a'>Show that the $F_1$ score, which is the harmonic mean of precision and recall, is equivalent to the Dice similarity coefficient</font><p>"
   ]
  }
 ],
 "metadata": {
  "kernelspec": {
   "display_name": "Python 3",
   "language": "python",
   "name": "python3"
  },
  "language_info": {
   "codemirror_mode": {
    "name": "ipython",
    "version": 3
   },
   "file_extension": ".py",
   "mimetype": "text/x-python",
   "name": "python",
   "nbconvert_exporter": "python",
   "pygments_lexer": "ipython3",
   "version": "3.7.10"
  }
 },
 "nbformat": 4,
 "nbformat_minor": 2
}
